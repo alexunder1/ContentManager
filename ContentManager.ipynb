{
 "cells": [
  {
   "cell_type": "code",
   "execution_count": 768,
   "metadata": {
    "collapsed": false
   },
   "outputs": [],
   "source": [
    "import urllib\n",
    "import cssselect\n",
    "from lxml.html import fromstring\n",
    "from urllib import urlopen\n",
    "from lxml.etree import XMLSyntaxError\n",
    "import csv\n",
    "import pymorphy2 as pym\n",
    "import nltk\n",
    "from itertools import groupby\n",
    "import math\n",
    "import operator\n",
    "from pymystem3 import Mystem\n",
    "from collections import defaultdict\n",
    "import chardet \n",
    "from tqdm import tqdm_notebook\n",
    "from difflib import get_close_matches"
   ]
  },
  {
   "cell_type": "code",
   "execution_count": 930,
   "metadata": {
    "collapsed": true
   },
   "outputs": [],
   "source": [
    "#constants\n",
    "COUNTER = 10\n",
    "\n",
    "URL_rbk = 'https://www.rbc.ru/politics'\n",
    "ITEM_PATH_rbk = '.l-row .item .item__link'\n",
    "IN_ITEM_PATH_rbk = '.article__content .article__text'\n",
    "HEADER_rbk = '.l-row .article__header__title .js-slide-title'\n",
    "\n",
    "URL_mail = 'https://news.mail.ru/politics'\n",
    "ITEM_PATH_mail = '.cols__inner .grid__fixer .photo'\n",
    "IN_ITEM_PATH_mail = '.article__item .article__item_alignment_left .article__item_html'\n",
    "\n",
    "URL_rns = 'https://rns.online/society/'\n",
    "ITEM_PATH_rns = '.b-list__container .b-list__time-slice .b-list__items'\n",
    "IN_ITEM_PATH_rns = '.b-news .t-body'\n",
    "IN_ITEM_TIME_rns = '.b-news .b-news__rubric-p .b-news__time'\n",
    "\n",
    "URL_vedomosti = 'https://www.vedomosti.ru/newsline/politics'\n",
    "ITEM_PATH_vedomosti = '.b-rubric_news .newsline_item .b-newsline-item__title'\n",
    "IN_ITEM_PATH_vedomosti ='.b-news_wrapper-first .b-news-item__wrapper .b-news-item__text'\n",
    "HEADER_vedomosti = '.header-h0'\n",
    "IN_ITEM_TIME_vedomosti = '.b-news-item__wrapper .b-news-item__title b-news-item__title_one .b-news-item_one__params .pubdate .b-published_at_time'\n"
   ]
  },
  {
   "cell_type": "code",
   "execution_count": 931,
   "metadata": {
    "collapsed": true
   },
   "outputs": [],
   "source": [
    "rbk_row_data = dict()\n",
    "header_row_rbk = dict()\n",
    "header_rbk = dict()\n",
    "rbk_data = dict()\n",
    "rns_row_data = dict()\n",
    "header_row_rns = dict()\n",
    "header_rns = dict()\n",
    "rns_data = dict()\n",
    "used = list()\n",
    "vedomosti_row_data = dict()\n",
    "vedomosti_data = dict()\n",
    "header_row_vedomosti = dict()\n",
    "header_vedomosti = dict()\n",
    "data = dict()\n",
    "tickers_data = dict()\n",
    "tickers = list()\n",
    "sites = {'rbk', 'rns', 'vedomosti'}\n",
    "class News:\n",
    "    \"\"\"text, header, tickers, site, time, score, score_tickers\"\"\"\n",
    "    def __init__(self, text, header, tickers, site, time, score=0, score_tickers=0, count=0):\n",
    "        self.text = text\n",
    "        self.header = header\n",
    "        self.tickers = tickers\n",
    "        self.site = site\n",
    "        self.time = time\n",
    "        self.score = score\n",
    "        self.score_tickers = score_tickers\n",
    "        self.count = count"
   ]
  },
  {
   "cell_type": "code",
   "execution_count": 932,
   "metadata": {
    "collapsed": false
   },
   "outputs": [],
   "source": [
    "b = 'власть власти властью властей властям властями властях путин путина путину путине путиным общество общества обществу обществе обществом украина украине украиной украины граница границы границей границе границы границу партия партии партией партиями партию партий партиям партиях запад запада западу западом западе депутат депутаты депутата депутатов депутату депутатам депутатом депутатами депутате депутатах государство государства государству государством государстве государств государствам государствами государствах коррупция коррупции коррупцию коррупции коррупцией политик политика политику политиком политике трамп трампа трампу трампом трампе саммит саммита саммиту саммитом саммите санкция санкции санкцией санкциями санкций санкциям санкциях боевики боевиков боевикам боевиками боевиках ядерный ядерное ядерная ядерные ядерных ядерного ядерной ядерным ядерному ядерными ядерном ядерными миротворцы миротворец миротворца миротворцев миротворцу миротворцам миротворцем миротворцами миротворце миротворцах оппозиция оппозиции оппозицией выборы выборов выборам выборами выборах'\n",
    "a = 'Власть Власти Властью Властей Властям Властями Властях Путин Путина Путину Путине Путиным Общество Общества Обществу Обществе Обществом Украина Украине Украиной Украины Граница Границы Границей Границе Границы Границу Партия Партии Партией Партиями Партию Партий Партиям Партиях Запад Запада Западу Западом Западе Депутат Депутаты Депутата Депутатов Депутату Депутатам Депутатом Депутатами Депутате Депутатах Государство Государства Государству Государством Государстве Государств Государствам Государствами Государствах Коррупция Коррупции Коррупцию Коррупции Коррупцией Политик Политика Политику Политиком Политике Трамп Трампа Трампу Трампом Трампе Саммит Саммита Саммиту Саммитом Саммите Санкция Санкции Санкцией Санкциями Санкций Санкциям Санкциях Боевики Боевиков Боевикам Боевиками Боевиках Ядерный Ядерное Ядерная Ядерные Ядерных Ядерного Ядерной Ядерным Ядерному Ядерными Ядерном Ядерными Миротворцы Миротворец Миротворца Миротворцев Миротворцу Миротворцам Миротворцем Миротворцами Миротворце Миротворцах Оппозиция Оппозиции Оппозицией Выборы Выборов Выборам Выборами Выборах'\n",
    "company = b.split(' ')\n",
    "compa = a.split(' ')\n",
    "company.extend(compa[:])"
   ]
  },
  {
   "cell_type": "code",
   "execution_count": 933,
   "metadata": {
    "collapsed": false
   },
   "outputs": [],
   "source": [
    "def check_for_tickers(text, key):\n",
    "    tickers = ''\n",
    "    wordes = list()\n",
    "    paper = ' '\n",
    "    words = text.split(',')\n",
    "    b = ' '.join(words)\n",
    "    wordes = b.split()\n",
    "    for word in wordes:\n",
    "        if word[-1:] == ')':\n",
    "            word = word[:-1]\n",
    "        if word[:1] == '(':\n",
    "            word = word[1:]\n",
    "        if word[-1:] == '?':\n",
    "            word = word[:-1]\n",
    "        if word[-1:] == ']':\n",
    "            word = word[:-1]\n",
    "        if word[:1] == '[':\n",
    "            word = word[1:]\n",
    "        if word[:2] == '«':\n",
    "            word = word[2:]\n",
    "        if word[-2:] == '»':\n",
    "            word = word[:-2]\n",
    "        if word[:1] == '\"':\n",
    "            word = word[1:]\n",
    "        if word[-1:] == '\"':\n",
    "            word = word[:-1]\n",
    "        if word[:1] == \"'\":\n",
    "            word = word[1:]\n",
    "        if word[-1:] == \"'\":\n",
    "            word = word[:-1]\n",
    "        if word[:1] == \"'\":\n",
    "            word = word[1:]\n",
    "        if word[-1:] == \"'\":\n",
    "            word = word[:-1]\n",
    "        paper += ' ' + word\n",
    "    for ticker in company:\n",
    "        if ticker in paper:\n",
    "            tickers+=' '+ ticker\n",
    "    if tickers == '':\n",
    "        return 'nothing'\n",
    "    else:\n",
    "        return tickers\n",
    "    "
   ]
  },
  {
   "cell_type": "code",
   "execution_count": 934,
   "metadata": {
    "collapsed": false
   },
   "outputs": [],
   "source": [
    "def clear():\n",
    "    rbk_data.clear()\n",
    "    rbk_row_data.clear()\n",
    "    used[:]=[]\n",
    "    vedomosti_data.clear()\n",
    "    vedomosti_row_data.clear()\n",
    "    rns_data.clear()\n",
    "    rns_row_data.clear()\n",
    "    header_rns.clear()\n",
    "    header_row_rns.clear()\n",
    "    header_rbk.clear()\n",
    "    header_row_rbk.clear()\n",
    "    header_vedomosti.clear()\n",
    "    header_row_vedomosti.clear()\n",
    "    data.clear()\n",
    "clear()"
   ]
  },
  {
   "cell_type": "code",
   "execution_count": 935,
   "metadata": {
    "collapsed": true
   },
   "outputs": [],
   "source": [
    "def parse():\n",
    "    parse_news_rbk()\n",
    "    parse_news_rns()\n",
    "    parse_news_vedomosti()\n",
    "    export()"
   ]
  },
  {
   "cell_type": "code",
   "execution_count": 936,
   "metadata": {
    "collapsed": false
   },
   "outputs": [],
   "source": [
    "def export():\n",
    "    with open('database.csv', 'w') as csv_file:\n",
    "        writer = csv.writer(csv_file)\n",
    "        for key, n in data.items():\n",
    "            writer.writerow([n.site , key, n.text, n.header, n.tickers, n.time, n.score, n.score_tickers, n.count])        "
   ]
  },
  {
   "cell_type": "raw",
   "metadata": {},
   "source": [
    "        my_time = news.cssselect('.l-row .article__header__info-block .article__header__date')\n",
    "        print my_time[0]\n",
    "        times = my_time[0].cssselect('time')\n",
    "        print times\n",
    "        time = times[0].text\n",
    "        "
   ]
  },
  {
   "cell_type": "code",
   "execution_count": 937,
   "metadata": {
    "collapsed": false
   },
   "outputs": [],
   "source": [
    "def import_from_csv():\n",
    "    with open('database.csv', 'r') as csv_file:\n",
    "        reader = csv.reader(csv_file)\n",
    "        for row in reader:\n",
    "            try:\n",
    "                n = News(row[2], row[3], row[4], row[0], row[5], row[6], row[7])\n",
    "                data.update({row[1]:n})\n",
    "            except IndexError:\n",
    "                continue"
   ]
  },
  {
   "cell_type": "code",
   "execution_count": 938,
   "metadata": {
    "collapsed": false
   },
   "outputs": [],
   "source": [
    "clear()\n",
    "export()"
   ]
  },
  {
   "cell_type": "code",
   "execution_count": 939,
   "metadata": {
    "collapsed": false
   },
   "outputs": [],
   "source": [
    "def parse_news_rns():\n",
    "    timing = dict()\n",
    "    timing.clear()\n",
    "    f = urlopen(URL_rns)\n",
    "    list_html = f.read().decode('utf-8')\n",
    "    list_doc = fromstring(list_html)\n",
    "    counter = 0\n",
    "        \n",
    "    for elem in tqdm_notebook(list_doc.cssselect(ITEM_PATH_rns)):\n",
    "        if counter > COUNTER:\n",
    "            break\n",
    "        \n",
    "        counter+=1\n",
    "        a = elem.cssselect('a')[0]\n",
    "        header = a.text\n",
    "        href = a.get('href')\n",
    "        if 'http' in href:\n",
    "            continue\n",
    "        real_href = 'https://rns.online' + href\n",
    "        header_row_rns.update({real_href:header})\n",
    "        information = urlopen(real_href).read().decode('utf-8')\n",
    "        try:\n",
    "            news = fromstring(information)\n",
    "        except XMLSyntaxError:\n",
    "            continue\n",
    "        my_time = news.cssselect(IN_ITEM_TIME_rns)\n",
    "        descr_news = news.cssselect(IN_ITEM_PATH_rns)\n",
    "        text = list()\n",
    "        \n",
    "        \n",
    "        times = my_time[0].cssselect('time')\n",
    "        tim = times[0].text\n",
    "        time = tim.split(',')\n",
    "        time = time[1]\n",
    "        time = time[1:]\n",
    "            \n",
    "        timing.update({real_href:time})\n",
    "        for part in tqdm_notebook(descr_news):\n",
    "            for i in range(10):\n",
    "                try:\n",
    "                    \n",
    "                    p = part.cssselect('p')[i]\n",
    "                    row = p.text_content()\n",
    "                    if row != None:\n",
    "                        text.append(row)\n",
    "                except IndexError:\n",
    "                    continue\n",
    "            rns_row_data.update({real_href:text})\n",
    "        \n",
    "    a = str()\n",
    "    b = str() \n",
    "    for key in header_row_rns.keys():\n",
    "        b = ''\n",
    "        x = header_row_rns[key]\n",
    "        for string in x:\n",
    "            b += string.encode('utf-8')\n",
    "        header_rns[key] = b\n",
    "        \n",
    "    for key in rns_row_data.keys():\n",
    "        a = ''\n",
    "        x = rns_row_data[key]\n",
    "\n",
    "        for string in x:\n",
    "            a += ' ' + string.encode('utf-8')\n",
    "        if not key in data.keys():\n",
    "            main_time = timing[key]\n",
    "            n = News(a, header_rns[key], check_for_tickers(a, key), 'rns', timing[key])\n",
    "            data[key] = n\n",
    "        if data[key].tickers == 'nothing':\n",
    "            data.pop(key)\n",
    "            rns_row_data.pop(key)"
   ]
  },
  {
   "cell_type": "code",
   "execution_count": 940,
   "metadata": {
    "collapsed": false
   },
   "outputs": [],
   "source": [
    "def parse_news_vedomosti():\n",
    "    timing_vedomosti = dict()\n",
    "    timing_vedomosti.clear()\n",
    "    f = urlopen(URL_vedomosti)\n",
    "    list_html = f.read().decode('utf-8')\n",
    "    list_doc = fromstring(list_html)\n",
    "    counter = 0\n",
    "    for elem in tqdm_notebook(list_doc.cssselect(ITEM_PATH_vedomosti)):\n",
    "        if counter > COUNTER:\n",
    "            break\n",
    "        counter+=1\n",
    "        \n",
    "        my_time = elem.cssselect('.b-newsline-item__title')   \n",
    "        times = my_time[0].cssselect('time')\n",
    "        time = times[0].text\n",
    "        a = elem.cssselect('a')[0]\n",
    "        header = a.text\n",
    "        href = a.get('href')\n",
    "        if 'http' in href:\n",
    "            continue\n",
    "        real_href = 'https://www.vedomosti.ru' + href\n",
    "        timing_vedomosti.update({real_href:time})\n",
    "        header_row_vedomosti.update({real_href:header})\n",
    "        information = urlopen(real_href).read().decode('utf-8')\n",
    "        try:\n",
    "            news = fromstring(information)\n",
    "        except XMLSyntaxError:\n",
    "            continue\n",
    "        descr_news = news.cssselect(IN_ITEM_PATH_vedomosti)\n",
    "        text = list()\n",
    "\n",
    "        for part in tqdm_notebook(descr_news):\n",
    "            for i in range(5):\n",
    "                try:\n",
    "                    p = part.cssselect('p')[i]\n",
    "                    row = p.text_content()\n",
    "                    if row != None:\n",
    "                        text.append(row)\n",
    "                except IndexError:\n",
    "                    continue\n",
    "            break\n",
    "        vedomosti_row_data.update({real_href:text})\n",
    "    a = str()\n",
    "    b = str() \n",
    "    for key in header_row_vedomosti.keys():\n",
    "        b = ''\n",
    "        x = header_row_vedomosti[key]\n",
    "\n",
    "        for string in x:\n",
    "            b += string.encode('utf-8')\n",
    "        header_vedomosti[key] = b\n",
    "        \n",
    "    for key in vedomosti_row_data.keys():\n",
    "        a = ''\n",
    "        x = vedomosti_row_data[key]\n",
    "        for string in x:\n",
    "            a += ' ' + string.encode('utf-8')\n",
    "        if not key in data.keys():\n",
    "            main_time = timing_vedomosti[key]\n",
    "            n = News(a, header_vedomosti[key], check_for_tickers(a, key), 'vedomosti', main_time)\n",
    "            data[key] = n\n",
    "        if data[key].tickers == 'nothing':\n",
    "            data.pop(key)\n",
    "            vedomosti_row_data.pop(key)"
   ]
  },
  {
   "cell_type": "code",
   "execution_count": 941,
   "metadata": {
    "collapsed": false
   },
   "outputs": [],
   "source": [
    "def parse_news_rbk():\n",
    "    timing = list()\n",
    "    timing = []\n",
    "    order = list()\n",
    "    order = []\n",
    "    ordered_time = dict()\n",
    "    ordered_time.clear()\n",
    "    f = urlopen(URL_rbk)\n",
    "    list_html = f.read().decode('utf-8')\n",
    "    list_doc = fromstring(list_html)\n",
    "\n",
    "    \n",
    "    \n",
    "    counter = 0 \n",
    "    \n",
    "    \n",
    "    for elem in tqdm_notebook(list_doc.cssselect('.l-row .item .item__bottom .item__info')):\n",
    "        if counter > COUNTER:\n",
    "            break\n",
    "        counter+=1\n",
    "        times = elem.cssselect('span')\n",
    "        time = times[0].text.encode('utf-8')\n",
    "        timing.append(time)\n",
    "    \n",
    "    \n",
    "    counter = 0 \n",
    "    \n",
    "    \n",
    "    for elem in tqdm_notebook(list_doc.cssselect(ITEM_PATH_rbk)):\n",
    "        if counter > COUNTER:\n",
    "            break\n",
    "        counter+=1\n",
    "        \n",
    "        a = elem.cssselect('a')[0]\n",
    "        href = a.get('href')\n",
    "        order.append(href)\n",
    "        information = urlopen(href).read().decode('utf-8')\n",
    "        try:\n",
    "            news = fromstring(information)\n",
    "        except XMLSyntaxError:\n",
    "            continue\n",
    "        h = news.cssselect(HEADER_rbk)[0]\n",
    "        header = h.text_content()\n",
    "        header_row_rbk.update({href:header})\n",
    "        descr_news = news.cssselect(IN_ITEM_PATH_rbk)\n",
    "        text = list()\n",
    "        \n",
    "        for part in descr_news:\n",
    "            for i in range(10):\n",
    "                try:\n",
    "                    p = part.cssselect('p')[i]\n",
    "                    row = p.text_content()\n",
    "                    if row != None:\n",
    "                        text.append(row)\n",
    "                except IndexError:\n",
    "                    continue\n",
    "        rbk_row_data.update({href:text})\n",
    "        \n",
    "    p = len(timing)\n",
    "    for i in range(p):\n",
    "        t = timing.pop()\n",
    "        o = order.pop()\n",
    "        ordered_time[o] = t\n",
    "    \n",
    "    a = str()\n",
    "    b = str() \n",
    "    \n",
    "    \n",
    "    for key in header_row_rbk.keys():\n",
    "        b = ''\n",
    "        x = header_row_rbk[key]\n",
    "        for string in x:\n",
    "            b += string.encode('utf-8')\n",
    "        header_rbk[key] = b\n",
    "\n",
    "    for key in rbk_row_data.keys():\n",
    "        a = ''\n",
    "        x = rbk_row_data[key]\n",
    "\n",
    "        for string in x:\n",
    "            a += ' ' + string.encode('utf-8')\n",
    "        if not key in data.keys():\n",
    "            n = News(a, header_rbk[key], check_for_tickers(a, key), 'rbk', ordered_time[key])\n",
    "            data[key] = n\n",
    "        if data[key].tickers == 'nothing':\n",
    "            data.pop(key)\n",
    "            rbk_row_data.pop(key) "
   ]
  },
  {
   "cell_type": "code",
   "execution_count": 942,
   "metadata": {
    "collapsed": false
   },
   "outputs": [
    {
     "name": "stdout",
     "output_type": "stream",
     "text": [
      "10:39\n",
      "https://www.rbc.ru/rbcfreenews/5b5c1d589a79474a6ff2b162\n",
      "27 июл, 23:25\n",
      "https://www.rbc.ru/politics/27/07/2018/5b5b7e8b9a79472bc5c170f0\n",
      "12:48\n",
      "https://www.rbc.ru/rbcfreenews/5b5c370d9a79474de602c754\n",
      "11:59\n",
      "https://www.rbc.ru/politics/28/07/2018/5b5c304c9a79474d32542cca\n",
      "27 июл, 22:44\n",
      "https://www.rbc.ru/rbcfreenews/5b5b72779a794728e99830ac\n",
      "27 июл, 23:11\n",
      "https://www.rbc.ru/politics/27/07/2018/5b5b79949a794729c36f03ac\n",
      "00:52\n",
      "https://www.rbc.ru/rbcfreenews/5b5b94019a794730ea399387\n",
      "08:07\n",
      "https://www.rbc.ru/politics/28/07/2018/5b5bf7bc9a794742f6e038f5\n",
      "08:23\n",
      "https://www.rbc.ru/rbcfreenews/5b5bfc139a794743fd1d64c2\n",
      "02:08\n",
      "https://www.rbc.ru/rbcfreenews/5b5ba5889a7947344967766c\n",
      "14:26\n",
      "https://www.rbc.ru/politics/28/07/2018/5b5c4a469a794751f0c88e89\n",
      "04:50\n",
      "https://www.rbc.ru/rbcfreenews/5b5bcb9f9a79473a463a1deb\n",
      "12:07\n",
      "https://www.rbc.ru/rbcfreenews/5b5c322c9a79474d6834d991\n",
      "01:21\n",
      "https://www.rbc.ru/rbcfreenews/5b5b9ab99a794731470a0c70\n",
      "27 июл, 22:14\n",
      "https://www.rbc.ru/politics/27/07/2018/5b5b6ca29a794727a5c0d4e2\n",
      "13:41\n",
      "https://www.rbc.ru/rbcfreenews/5b5c45a39a79475145514806\n",
      "06:42\n",
      "https://www.rbc.ru/rbcfreenews/5b5be2859a79473f0f4b2f34\n",
      "03:45\n",
      "https://www.rbc.ru/rbcfreenews/5b5bbc739a794737131f528e\n",
      "27 июл, 21:11\n",
      "https://www.rbc.ru/politics/27/07/2018/5b5b5cee9a794724b33202f3\n",
      "14:40\n",
      "https://www.rbc.ru/rbcfreenews/5b5c50a99a794751f7678bc9\n",
      "01:21\n",
      "https://www.rbc.ru/politics/28/07/2018/5b5b8bd89a79472c971d5008\n",
      "15:52\n",
      "https://www.rbc.ru/rbcfreenews/5b5c65f49a7947573bd762f2\n",
      "15:07\n",
      "https://www.rbc.ru/politics/28/07/2018/5b5c5a289a7947539fe392dd\n",
      "15:35\n",
      "https://www.rbc.ru/rbcfreenews/5b5c62d09a794755b0747805\n",
      "06:10\n",
      "https://www.rbc.ru/rbcfreenews/5b5bde4f9a79473e2c4dee7d\n",
      "27 июл, 23:44\n",
      "https://www.rbc.ru/politics/27/07/2018/5b5b81bd9a79472bc5c170f6\n",
      "12:56\n",
      "21:49\n",
      "13:06\n",
      "15:49\n",
      "19:57\n",
      "20:46\n",
      "14:13\n",
      "12:47\n",
      "12:20\n",
      "20:09\n",
      "10:27\n",
      "17:46\n",
      "10:11\n",
      "11:58\n",
      "11:28\n",
      "19:06\n",
      "18:21\n",
      "23:10\n",
      "21:09\n",
      "09:48\n",
      "22:46\n",
      "21:39\n",
      "16:04\n",
      "16:25\n",
      "12:19\n",
      "05:35\n",
      "15:57\n",
      "21:40\n",
      "08:38\n",
      "12:33\n",
      "07:59\n",
      "16:34\n",
      "22:58\n",
      "07:18\n",
      "18:24\n",
      "06:06\n",
      "15:42\n",
      "15:13\n",
      "06:52\n",
      "12:06\n",
      "20:23\n",
      "13:18\n",
      "19:23\n",
      "15:44\n",
      "20:31\n"
     ]
    }
   ],
   "source": [
    "clear()\n",
    "import_from_csv()\n",
    "parse()"
   ]
  },
  {
   "cell_type": "code",
   "execution_count": 944,
   "metadata": {
    "collapsed": true
   },
   "outputs": [],
   "source": [
    "def normalize():\n",
    "    for key in data.keys():\n",
    "        dat =data[key].text\n",
    "        wordes = list()\n",
    "        paper = ' '\n",
    "        words = dat.split(',')\n",
    "        b = ' '.join(words)\n",
    "        wordes = b.split()\n",
    "        for word in wordes:\n",
    "            if word[-1:] == ')':\n",
    "                word = word[:-1]\n",
    "            if word[:1] == '(':\n",
    "                word = word[1:]\n",
    "            if word[-1:] == ']':\n",
    "                word = word[:-1]\n",
    "            if word[:1] == '[':\n",
    "                word = word[1:]\n",
    "            if word[-1:] =='.':\n",
    "                word = word[:-1]\n",
    "            if word[:2] == '«':\n",
    "                word = word[2:]\n",
    "            if word[-2:] == '»':\n",
    "                word = word[:-2]\n",
    "            if word[:1] == '\"':\n",
    "                word = word[1:]\n",
    "            if word[-1:] == '\"':\n",
    "                word = word[:-1]\n",
    "            if word[:1] == \"'\":\n",
    "                word = word[1:]\n",
    "            if word[-1:] == \"'\":\n",
    "                word = word[:-1]\n",
    "            if word[:1] == \"'\":\n",
    "                word = word[1:]\n",
    "            if word[-1:] == \"'\":\n",
    "                word = word[:-1]\n",
    "            paper += ' ' + word\n",
    "        data[key].text = paper"
   ]
  },
  {
   "cell_type": "code",
   "execution_count": 945,
   "metadata": {
    "collapsed": false
   },
   "outputs": [
    {
     "name": "stdout",
     "output_type": "stream",
     "text": [
      "CPU times: user 916 ms, sys: 112 ms, total: 1.03 s\n",
      "Wall time: 1.34 s\n"
     ]
    }
   ],
   "source": [
    "normalize()\n",
    "all_data = []\n",
    "le = int()\n",
    "text = ''\n",
    "all_dat = []\n",
    "text = []\n",
    "for key in data.keys():\n",
    "    text = data[key].text.split(' ')\n",
    "    le+=len(text)\n",
    "    for word in text:\n",
    "        all_dat.append(word)\n",
    "        \n",
    "all_dat = [e for i,e in enumerate(all_dat) if e not in all_dat[:i]]\n",
    "diction = dict()\n",
    "diction.clear()\n",
    "for word in all_dat:\n",
    "    if word!='':\n",
    "        diction[word] = mystem.lemmatize(word)[0]\n"
   ]
  },
  {
   "cell_type": "code",
   "execution_count": 947,
   "metadata": {
    "collapsed": true
   },
   "outputs": [],
   "source": [
    "def normalize_syn(dat):\n",
    "    new_dat = str()\n",
    "    text = dat.split(' ')\n",
    "    for word in text:\n",
    "        try:\n",
    "            word = diction[word]\n",
    "        except:\n",
    "            KeyError\n",
    "        new_dat+=word+' '\n",
    "    return new_dat"
   ]
  },
  {
   "cell_type": "code",
   "execution_count": 948,
   "metadata": {
    "collapsed": false
   },
   "outputs": [],
   "source": [
    "TF_IDF_words = defaultdict(lambda : defaultdict(set))"
   ]
  },
  {
   "cell_type": "code",
   "execution_count": 949,
   "metadata": {
    "collapsed": false
   },
   "outputs": [],
   "source": [
    "def TF(word, dat):\n",
    "    text = dat.split(' ')\n",
    "    in_data = text.count(word)\n",
    "    r = float()\n",
    "    b = in_data/float(len(text))\n",
    "    return b"
   ]
  },
  {
   "cell_type": "code",
   "execution_count": 950,
   "metadata": {
    "collapsed": false
   },
   "outputs": [],
   "source": [
    "def IDF(word, site):\n",
    "    D=0\n",
    "    k=0\n",
    "    for key in data.keys():\n",
    "        if data[key].site == site:\n",
    "            D+=1\n",
    "            text = data[key].text\n",
    "            if word in text:\n",
    "                k+=1\n",
    "    return math.log(D/k)"
   ]
  },
  {
   "cell_type": "code",
   "execution_count": 952,
   "metadata": {
    "collapsed": false
   },
   "outputs": [],
   "source": [
    "for key in data.keys():\n",
    "    data[key].text = normalize_syn(data[key].text)\n"
   ]
  },
  {
   "cell_type": "code",
   "execution_count": 954,
   "metadata": {
    "collapsed": false
   },
   "outputs": [],
   "source": [
    "TF_IDF_words.clear()\n",
    "def TFIDF():\n",
    "\n",
    "    for site in sites:            \n",
    "        for key in data.keys():\n",
    "            if data[key].site == site:\n",
    "                text = data[key].text.split(' ')\n",
    "                for word in text:\n",
    "                    if not TF_IDF_words[key][word]:\n",
    "                        TF_IDF_words[key][word] = TF(word, data[key].text)*IDF(word, site)"
   ]
  },
  {
   "cell_type": "code",
   "execution_count": 955,
   "metadata": {
    "collapsed": false
   },
   "outputs": [],
   "source": [
    "TFIDF()\n",
    "for key in TF_IDF_words:\n",
    "    data[key].main_words = ''\n",
    "    for i in range(5):\n",
    "        a=0.0\n",
    "        for word in TF_IDF_words[key]:\n",
    "            if TF_IDF_words[key][word]>=a:\n",
    "                a=TF_IDF_words[key][word]\n",
    "                ans_word = word\n",
    "                ans_key = key\n",
    "        TF_IDF_words[ans_key][ans_word] = 0.0\n",
    "        data[ans_key].main_words += ans_word + ' '\n",
    "            \n"
   ]
  },
  {
   "cell_type": "code",
   "execution_count": 956,
   "metadata": {
    "collapsed": false,
    "scrolled": true
   },
   "outputs": [],
   "source": [
    "main = list()\n",
    "coincidences = defaultdict(lambda : defaultdict(set))\n",
    "coincidences.clear()\n",
    "main_another = list()\n",
    "main = list()\n",
    "main_another = []\n",
    "main = []\n",
    "\n",
    "for key in data.keys():\n",
    "    for another in data.keys():\n",
    "        c=0\n",
    "        if key!=another and data[key].site != data[another].site:\n",
    "            a = data[key].main_words\n",
    "            b = data[another].main_words\n",
    "            main = a.split(' ')\n",
    "            main_another = b.split(' ')\n",
    "            ind=5\n",
    "            for word in main:\n",
    "                ind-=1\n",
    "                ind_another=5\n",
    "                for another_word in main_another:\n",
    "                    ind_another-=1\n",
    "                    if word == another_word:\n",
    "                        c+=ind_another*ind\n",
    "        coincidences[key][another] = c"
   ]
  },
  {
   "cell_type": "code",
   "execution_count": 957,
   "metadata": {
    "collapsed": false
   },
   "outputs": [],
   "source": [
    "coincidences_ticker = defaultdict(lambda : defaultdict(set))\n",
    "coincidences_ticker.clear()\n",
    "for key in coincidences.keys():\n",
    "    for another in coincidences[key].keys():\n",
    "        coincidences_ticker[key][another] = 0\n",
    "        \n",
    "        \n",
    "for key in coincidences_ticker.keys():\n",
    "    for another in coincidences_ticker[key].keys():\n",
    "        try:\n",
    "            tickers_key=data[key].tickers.split(' ')\n",
    "            for tick in tickers_key:\n",
    "            \n",
    "                tickers_another=data[another].tickers.split(' ')\n",
    "                for an_tick in tickers_another:\n",
    "                    if tick == an_tick:\n",
    "                        coincidences_ticker[key][another]+=1\n",
    "        except:\n",
    "            KeyError\n",
    "        "
   ]
  },
  {
   "cell_type": "code",
   "execution_count": 958,
   "metadata": {
    "collapsed": true
   },
   "outputs": [],
   "source": [
    "score_ticker = dict()\n",
    "for key in coincidences_ticker.keys():\n",
    "    score_ticker[key] = 0\n",
    "    \n",
    "for key in coincidences_ticker.keys():\n",
    "    for another in coincidences_ticker[key].keys():\n",
    "        if another != key:\n",
    "            score_ticker[key]+=coincidences_ticker[key][another]"
   ]
  },
  {
   "cell_type": "code",
   "execution_count": 959,
   "metadata": {
    "collapsed": false
   },
   "outputs": [],
   "source": [
    "score = dict()\n",
    "for key in coincidences.keys():\n",
    "    score[key] = 0\n",
    "    \n",
    "for key in coincidences.keys():\n",
    "    for another in coincidences[key].keys():\n",
    "         if another != key:\n",
    "            score[key]+=coincidences[key][another]\n",
    "                    "
   ]
  },
  {
   "cell_type": "code",
   "execution_count": 962,
   "metadata": {
    "collapsed": true
   },
   "outputs": [],
   "source": [
    "for key in data.keys():\n",
    "    data[key].score = score[key]\n",
    "    data[key].score_tickers = score_ticker[key]\n"
   ]
  },
  {
   "cell_type": "code",
   "execution_count": 963,
   "metadata": {
    "collapsed": false
   },
   "outputs": [],
   "source": [
    "for key in data.keys():\n",
    "    data[key].count = len(data[key].text.split(' '))"
   ]
  },
  {
   "cell_type": "code",
   "execution_count": 964,
   "metadata": {
    "collapsed": true
   },
   "outputs": [],
   "source": [
    "with open('database.csv', 'r') as csv_file:\n",
    "    reader = csv.reader(csv_file)\n",
    "    for row in reader:\n",
    "        try:\n",
    "            data[row[1]].text = row[2]\n",
    "        except IndexError:\n",
    "            continue\n",
    "export()\n",
    "\n"
   ]
  },
  {
   "cell_type": "code",
   "execution_count": 965,
   "metadata": {
    "collapsed": true
   },
   "outputs": [],
   "source": [
    "import pandas as pd"
   ]
  },
  {
   "cell_type": "code",
   "execution_count": 966,
   "metadata": {
    "collapsed": false
   },
   "outputs": [],
   "source": [
    "with open(\"database.csv\", \"r\") as fp:\n",
    "    reader = csv.reader(fp)"
   ]
  },
  {
   "cell_type": "code",
   "execution_count": 967,
   "metadata": {
    "collapsed": false
   },
   "outputs": [],
   "source": [
    "df = pd.read_csv('database.csv', header=-1, names=['site', 'link', 'text', 'header', 'tickers', 'time' ,'score', 'score_tickers', 'count'])"
   ]
  },
  {
   "cell_type": "code",
   "execution_count": 968,
   "metadata": {
    "collapsed": false,
    "scrolled": true
   },
   "outputs": [
    {
     "data": {
      "text/html": [
       "<div>\n",
       "<table border=\"1\" class=\"dataframe\">\n",
       "  <thead>\n",
       "    <tr style=\"text-align: right;\">\n",
       "      <th></th>\n",
       "      <th>site</th>\n",
       "      <th>link</th>\n",
       "      <th>text</th>\n",
       "      <th>header</th>\n",
       "      <th>tickers</th>\n",
       "      <th>time</th>\n",
       "      <th>score</th>\n",
       "      <th>score_tickers</th>\n",
       "      <th>count</th>\n",
       "    </tr>\n",
       "  </thead>\n",
       "  <tbody>\n",
       "    <tr>\n",
       "      <th>0</th>\n",
       "      <td>vedomosti</td>\n",
       "      <td>https://www.vedomosti.ru/politics/news/2018/07...</td>\n",
       "      <td>\\n                        Арестованная в США ...</td>\n",
       "      <td>Bloomberg сообщил о связях Бутиной с наследник...</td>\n",
       "      <td>партии Путин Путина</td>\n",
       "      <td>22:46</td>\n",
       "      <td>36</td>\n",
       "      <td>67</td>\n",
       "      <td>226</td>\n",
       "    </tr>\n",
       "    <tr>\n",
       "      <th>1</th>\n",
       "      <td>rbk</td>\n",
       "      <td>https://www.rbc.ru/politics/27/07/2018/5b5b7e8...</td>\n",
       "      <td>Бывший глава Армении Роберт Кочарян, обвиняем...</td>\n",
       "      <td>Суд арестовал экс-президента Армении Роберта К...</td>\n",
       "      <td>выборах</td>\n",
       "      <td>27 июл, 23:25</td>\n",
       "      <td>30</td>\n",
       "      <td>54</td>\n",
       "      <td>285</td>\n",
       "    </tr>\n",
       "    <tr>\n",
       "      <th>2</th>\n",
       "      <td>vedomosti</td>\n",
       "      <td>https://www.vedomosti.ru/politics/news/2018/07...</td>\n",
       "      <td>\\n                        Останки военнослужа...</td>\n",
       "      <td>Белый дом сообщил о передаче Северной Кореей о...</td>\n",
       "      <td>властям властями саммит саммита Трамп Трампом</td>\n",
       "      <td>05:35</td>\n",
       "      <td>42</td>\n",
       "      <td>76</td>\n",
       "      <td>115</td>\n",
       "    </tr>\n",
       "    <tr>\n",
       "      <th>3</th>\n",
       "      <td>rbk</td>\n",
       "      <td>https://www.rbc.ru/rbcfreenews/5b5b72779a79472...</td>\n",
       "      <td>Президент Эквадора Ленин Морено не давал расп...</td>\n",
       "      <td>Власти Эквадора опровергли предложение выгнать...</td>\n",
       "      <td>власти</td>\n",
       "      <td>27 июл, 22:44</td>\n",
       "      <td>30</td>\n",
       "      <td>58</td>\n",
       "      <td>172</td>\n",
       "    </tr>\n",
       "    <tr>\n",
       "      <th>4</th>\n",
       "      <td>rbk</td>\n",
       "      <td>https://www.rbc.ru/rbcfreenews/5b5b94019a79473...</td>\n",
       "      <td>Мэр Москвы Сергей Собянин уволил первого замр...</td>\n",
       "      <td>Собянин уволил замглавы департамента экономиче...</td>\n",
       "      <td>политик</td>\n",
       "      <td>00:52</td>\n",
       "      <td>30</td>\n",
       "      <td>55</td>\n",
       "      <td>123</td>\n",
       "    </tr>\n",
       "    <tr>\n",
       "      <th>5</th>\n",
       "      <td>rns</td>\n",
       "      <td>https://rns.online/society/SMI-Iosif-Kobzon-vp...</td>\n",
       "      <td>Сестра народного артиста СССР и депутата Госд...</td>\n",
       "      <td>Сестра Иосифа Кобзона опровергла  информацию о...</td>\n",
       "      <td>депутат депутата</td>\n",
       "      <td>13:06</td>\n",
       "      <td>38</td>\n",
       "      <td>58</td>\n",
       "      <td>103</td>\n",
       "    </tr>\n",
       "    <tr>\n",
       "      <th>6</th>\n",
       "      <td>vedomosti</td>\n",
       "      <td>https://www.vedomosti.ru/politics/news/2018/07...</td>\n",
       "      <td>\\n                        Премьер-министр РФ ...</td>\n",
       "      <td>Правительство выделило 1,3 млрд рублей на моде...</td>\n",
       "      <td>общество</td>\n",
       "      <td>15:57</td>\n",
       "      <td>36</td>\n",
       "      <td>52</td>\n",
       "      <td>114</td>\n",
       "    </tr>\n",
       "    <tr>\n",
       "      <th>7</th>\n",
       "      <td>vedomosti</td>\n",
       "      <td>https://www.vedomosti.ru/politics/news/2018/07...</td>\n",
       "      <td>\\n                        Национальный центр ...</td>\n",
       "      <td>Разведка США назвала Россию одним из трех лиде...</td>\n",
       "      <td>государстве государств</td>\n",
       "      <td>21:40</td>\n",
       "      <td>36</td>\n",
       "      <td>73</td>\n",
       "      <td>150</td>\n",
       "    </tr>\n",
       "    <tr>\n",
       "      <th>8</th>\n",
       "      <td>rbk</td>\n",
       "      <td>https://www.rbc.ru/rbcfreenews/5b5bcb9f9a79473...</td>\n",
       "      <td>Президент США Дональд Трамп заявил, что не до...</td>\n",
       "      <td>Трамп заявил о недопустимости иностранного вме...</td>\n",
       "      <td>власти властям властями государства государст...</td>\n",
       "      <td>04:50</td>\n",
       "      <td>62</td>\n",
       "      <td>109</td>\n",
       "      <td>153</td>\n",
       "    </tr>\n",
       "    <tr>\n",
       "      <th>9</th>\n",
       "      <td>rns</td>\n",
       "      <td>https://rns.online/society/Zaderzhan-vosmoi-po...</td>\n",
       "      <td>По делу о пытках в ярославской колонии задерж...</td>\n",
       "      <td>Задержан восьмой подозреваемый по делу о пытка...</td>\n",
       "      <td>Обществе</td>\n",
       "      <td>11:58</td>\n",
       "      <td>38</td>\n",
       "      <td>51</td>\n",
       "      <td>110</td>\n",
       "    </tr>\n",
       "    <tr>\n",
       "      <th>10</th>\n",
       "      <td>rbk</td>\n",
       "      <td>https://www.rbc.ru/rbcfreenews/5b5b9ab99a79473...</td>\n",
       "      <td>Глава Пентагона Джеймс Мэттис выступает за по...</td>\n",
       "      <td>Мэттис выступил за постоянные контакты России ...</td>\n",
       "      <td>государств ядерные</td>\n",
       "      <td>01:21</td>\n",
       "      <td>30</td>\n",
       "      <td>65</td>\n",
       "      <td>140</td>\n",
       "    </tr>\n",
       "    <tr>\n",
       "      <th>11</th>\n",
       "      <td>rns</td>\n",
       "      <td>https://rns.online/society/Poklonskaya-prokomm...</td>\n",
       "      <td>Депутат Госдумы, бывший прокурор Крыма Наталь...</td>\n",
       "      <td>Поклонская прокомментировала критику Родниной ...</td>\n",
       "      <td>депутат депутата депутатов депутатам Депутат</td>\n",
       "      <td>19:06</td>\n",
       "      <td>38</td>\n",
       "      <td>63</td>\n",
       "      <td>207</td>\n",
       "    </tr>\n",
       "    <tr>\n",
       "      <th>12</th>\n",
       "      <td>vedomosti</td>\n",
       "      <td>https://www.vedomosti.ru/politics/news/2018/07...</td>\n",
       "      <td>\\n                        Президент США Донал...</td>\n",
       "      <td>Белый дом назвал условие визита Трампа в Москву</td>\n",
       "      <td>саммит саммите выборы выборов Путин Путина Тр...</td>\n",
       "      <td>18:24</td>\n",
       "      <td>52</td>\n",
       "      <td>92</td>\n",
       "      <td>183</td>\n",
       "    </tr>\n",
       "    <tr>\n",
       "      <th>13</th>\n",
       "      <td>rns</td>\n",
       "      <td>https://rns.online/society/Putin-nazval-effekt...</td>\n",
       "      <td>Россия проводит эффективную работу по борьбе ...</td>\n",
       "      <td>Путин назвал эффективной работу России по борь...</td>\n",
       "      <td>государств Путин Путина Запад</td>\n",
       "      <td>23:10</td>\n",
       "      <td>38</td>\n",
       "      <td>79</td>\n",
       "      <td>127</td>\n",
       "    </tr>\n",
       "    <tr>\n",
       "      <th>14</th>\n",
       "      <td>vedomosti</td>\n",
       "      <td>https://www.vedomosti.ru/politics/news/2018/07...</td>\n",
       "      <td>\\n                        Президент России Вл...</td>\n",
       "      <td>Путин пригласил Трампа в Москву</td>\n",
       "      <td>саммит саммита саммите выборы выборов Путин П...</td>\n",
       "      <td>16:04</td>\n",
       "      <td>52</td>\n",
       "      <td>96</td>\n",
       "      <td>248</td>\n",
       "    </tr>\n",
       "    <tr>\n",
       "      <th>15</th>\n",
       "      <td>vedomosti</td>\n",
       "      <td>https://www.vedomosti.ru/politics/news/2018/07...</td>\n",
       "      <td>\\n                        Председатель комите...</td>\n",
       "      <td>Трампу дали две недели на обдумывание антиросс...</td>\n",
       "      <td>власти санкция санкции санкциях Путин Трамп Т...</td>\n",
       "      <td>07:59</td>\n",
       "      <td>38</td>\n",
       "      <td>74</td>\n",
       "      <td>184</td>\n",
       "    </tr>\n",
       "    <tr>\n",
       "      <th>16</th>\n",
       "      <td>rns</td>\n",
       "      <td>https://rns.online/society/Sovfed-odobril-zako...</td>\n",
       "      <td>Совет Федерации одобрил изменения, принятые в...</td>\n",
       "      <td>Совфед одобрил закон о контроле за расходами б...</td>\n",
       "      <td>государства государстве государств коррупции ...</td>\n",
       "      <td>12:20</td>\n",
       "      <td>38</td>\n",
       "      <td>84</td>\n",
       "      <td>116</td>\n",
       "    </tr>\n",
       "    <tr>\n",
       "      <th>17</th>\n",
       "      <td>rns</td>\n",
       "      <td>https://rns.online/society/Bivshii-posol-SSHa-...</td>\n",
       "      <td>Бывший посол США в Киеве, директор Евразийско...</td>\n",
       "      <td>Бывший посол США в Киеве заявил о вторжении Кр...</td>\n",
       "      <td>Украине Украины</td>\n",
       "      <td>11:28</td>\n",
       "      <td>58</td>\n",
       "      <td>60</td>\n",
       "      <td>141</td>\n",
       "    </tr>\n",
       "    <tr>\n",
       "      <th>18</th>\n",
       "      <td>rbk</td>\n",
       "      <td>https://www.rbc.ru/politics/27/07/2018/5b5b5ce...</td>\n",
       "      <td>Обвиняемая в госизмене жительница Калининград...</td>\n",
       "      <td>Обвиняемая в госизмене рассказала о желании по...</td>\n",
       "      <td>государстве государств</td>\n",
       "      <td>27 июл, 21:11</td>\n",
       "      <td>30</td>\n",
       "      <td>73</td>\n",
       "      <td>138</td>\n",
       "    </tr>\n",
       "    <tr>\n",
       "      <th>19</th>\n",
       "      <td>vedomosti</td>\n",
       "      <td>https://www.vedomosti.ru/politics/news/2018/07...</td>\n",
       "      <td>\\n                        Президент России Вл...</td>\n",
       "      <td>Путин согласился пойти с Эрдоганом в ресторан ...</td>\n",
       "      <td>саммит саммита Путин Путина</td>\n",
       "      <td>06:06</td>\n",
       "      <td>43</td>\n",
       "      <td>73</td>\n",
       "      <td>150</td>\n",
       "    </tr>\n",
       "    <tr>\n",
       "      <th>20</th>\n",
       "      <td>rns</td>\n",
       "      <td>https://rns.online/society/Sovfed-odobril-zako...</td>\n",
       "      <td>Совет Федерации на заседании одобрил закон, к...</td>\n",
       "      <td>Совфед одобрил закон о Дне принятия Крыма</td>\n",
       "      <td>депутат депутаты</td>\n",
       "      <td>12:56</td>\n",
       "      <td>48</td>\n",
       "      <td>58</td>\n",
       "      <td>95</td>\n",
       "    </tr>\n",
       "    <tr>\n",
       "      <th>21</th>\n",
       "      <td>rbk</td>\n",
       "      <td>https://www.rbc.ru/rbcfreenews/5b5c65f49a79475...</td>\n",
       "      <td>Юлия Шестун получила удостоверение кандидата ...</td>\n",
       "      <td>Супруга главы Серпуховского района стала канди...</td>\n",
       "      <td>политик политика политику выборов выборах</td>\n",
       "      <td>15:52</td>\n",
       "      <td>46</td>\n",
       "      <td>64</td>\n",
       "      <td>172</td>\n",
       "    </tr>\n",
       "    <tr>\n",
       "      <th>22</th>\n",
       "      <td>vedomosti</td>\n",
       "      <td>https://www.vedomosti.ru/politics/news/2018/07...</td>\n",
       "      <td>\\n                        Два британских истр...</td>\n",
       "      <td>Британские истребители сблизились с российским...</td>\n",
       "      <td>граница</td>\n",
       "      <td>15:13</td>\n",
       "      <td>36</td>\n",
       "      <td>51</td>\n",
       "      <td>125</td>\n",
       "    </tr>\n",
       "    <tr>\n",
       "      <th>23</th>\n",
       "      <td>rbk</td>\n",
       "      <td>https://www.rbc.ru/politics/28/07/2018/5b5c4a4...</td>\n",
       "      <td>Владимир Путин принял участие в торжествах, п...</td>\n",
       "      <td>Путин заявил о мудрости предпринявших Крещение...</td>\n",
       "      <td>государства государстве государств государств...</td>\n",
       "      <td>14:26</td>\n",
       "      <td>48</td>\n",
       "      <td>104</td>\n",
       "      <td>295</td>\n",
       "    </tr>\n",
       "    <tr>\n",
       "      <th>24</th>\n",
       "      <td>rns</td>\n",
       "      <td>https://rns.online/society/MID-Rossii-prizval-...</td>\n",
       "      <td>МИД России призвал США отказаться от создания...</td>\n",
       "      <td>МИД России призвал США отказаться от гонки воо...</td>\n",
       "      <td>политик ядерных</td>\n",
       "      <td>21:09</td>\n",
       "      <td>38</td>\n",
       "      <td>55</td>\n",
       "      <td>164</td>\n",
       "    </tr>\n",
       "    <tr>\n",
       "      <th>25</th>\n",
       "      <td>vedomosti</td>\n",
       "      <td>https://www.vedomosti.ru/politics/news/2018/07...</td>\n",
       "      <td>\\n                        Посольство России в...</td>\n",
       "      <td>Российские дипломаты рассказали о «проблемах с...</td>\n",
       "      <td>власти</td>\n",
       "      <td>09:48</td>\n",
       "      <td>36</td>\n",
       "      <td>58</td>\n",
       "      <td>152</td>\n",
       "    </tr>\n",
       "    <tr>\n",
       "      <th>26</th>\n",
       "      <td>rbk</td>\n",
       "      <td>https://www.rbc.ru/rbcfreenews/5b5c1d589a79474...</td>\n",
       "      <td>Российская промышленность в интересах Министе...</td>\n",
       "      <td>Вице-премьер пообещал армии России новое страт...</td>\n",
       "      <td>Путин Государстве Государств</td>\n",
       "      <td>10:39</td>\n",
       "      <td>30</td>\n",
       "      <td>63</td>\n",
       "      <td>152</td>\n",
       "    </tr>\n",
       "    <tr>\n",
       "      <th>27</th>\n",
       "      <td>rbk</td>\n",
       "      <td>https://www.rbc.ru/politics/28/07/2018/5b5c304...</td>\n",
       "      <td>Армения предложила государствам-членам Органи...</td>\n",
       "      <td>Армения предложила сменить генсека ОДКБ</td>\n",
       "      <td>государства государств государствам выборах</td>\n",
       "      <td>11:59</td>\n",
       "      <td>30</td>\n",
       "      <td>78</td>\n",
       "      <td>259</td>\n",
       "    </tr>\n",
       "    <tr>\n",
       "      <th>28</th>\n",
       "      <td>rbk</td>\n",
       "      <td>https://www.rbc.ru/politics/27/07/2018/5b5b799...</td>\n",
       "      <td>Министерство обороны США решило избавиться от...</td>\n",
       "      <td>Пентагон решил блокировать закупку программ с ...</td>\n",
       "      <td>государства государстве государств государствах</td>\n",
       "      <td>27 июл, 23:11</td>\n",
       "      <td>30</td>\n",
       "      <td>80</td>\n",
       "      <td>288</td>\n",
       "    </tr>\n",
       "    <tr>\n",
       "      <th>29</th>\n",
       "      <td>rns</td>\n",
       "      <td>https://rns.online/society/V-Moskve-zavershils...</td>\n",
       "      <td>В Москве на проспекте Академика Сахарова заве...</td>\n",
       "      <td>В Москве завершился митинг против повышения пе...</td>\n",
       "      <td>властям властями обществе</td>\n",
       "      <td>15:49</td>\n",
       "      <td>60</td>\n",
       "      <td>63</td>\n",
       "      <td>72</td>\n",
       "    </tr>\n",
       "    <tr>\n",
       "      <th>30</th>\n",
       "      <td>rbk</td>\n",
       "      <td>https://www.rbc.ru/politics/28/07/2018/5b5bf7b...</td>\n",
       "      <td>Бюджетные инвестиции в размере 1,32 млрд руб....</td>\n",
       "      <td>Медведев выделил ОАК 1,3 млрд руб. на модерниз...</td>\n",
       "      <td>общество обществом</td>\n",
       "      <td>08:07</td>\n",
       "      <td>30</td>\n",
       "      <td>52</td>\n",
       "      <td>206</td>\n",
       "    </tr>\n",
       "    <tr>\n",
       "      <th>31</th>\n",
       "      <td>vedomosti</td>\n",
       "      <td>https://www.vedomosti.ru/politics/news/2018/07...</td>\n",
       "      <td>\\n                        На улице Маши Порыв...</td>\n",
       "      <td>В Москве началось шествие против пенсионной ре...</td>\n",
       "      <td>власти властям властями обществе партии партией</td>\n",
       "      <td>12:19</td>\n",
       "      <td>42</td>\n",
       "      <td>72</td>\n",
       "      <td>209</td>\n",
       "    </tr>\n",
       "    <tr>\n",
       "      <th>32</th>\n",
       "      <td>rbk</td>\n",
       "      <td>https://www.rbc.ru/rbcfreenews/5b5bfc139a79474...</td>\n",
       "      <td>Если бы Красная армия не вторглась на Украину...</td>\n",
       "      <td>Экс-посол США в Киеве заявил о вторжении Красн...</td>\n",
       "      <td>государства государстве государств Украине Ук...</td>\n",
       "      <td>08:23</td>\n",
       "      <td>57</td>\n",
       "      <td>89</td>\n",
       "      <td>251</td>\n",
       "    </tr>\n",
       "    <tr>\n",
       "      <th>33</th>\n",
       "      <td>vedomosti</td>\n",
       "      <td>https://www.vedomosti.ru/politics/news/2018/07...</td>\n",
       "      <td>\\n                        Следователь дал раз...</td>\n",
       "      <td>К арестованному главе Серпуховского района доп...</td>\n",
       "      <td>выборов выборах</td>\n",
       "      <td>16:34</td>\n",
       "      <td>52</td>\n",
       "      <td>60</td>\n",
       "      <td>207</td>\n",
       "    </tr>\n",
       "    <tr>\n",
       "      <th>34</th>\n",
       "      <td>rbk</td>\n",
       "      <td>https://www.rbc.ru/rbcfreenews/5b5ba5889a79473...</td>\n",
       "      <td>Президент Турции Реджеп Тайип Эрдоган намерен...</td>\n",
       "      <td>СМИ узнали о визите Эрдогана в Германию впервы...</td>\n",
       "      <td>власти властям властями государстве государств</td>\n",
       "      <td>02:08</td>\n",
       "      <td>37</td>\n",
       "      <td>90</td>\n",
       "      <td>193</td>\n",
       "    </tr>\n",
       "    <tr>\n",
       "      <th>35</th>\n",
       "      <td>rns</td>\n",
       "      <td>https://rns.online/society/V-Moskve-prohodit-p...</td>\n",
       "      <td>В Москве на Соборной площади Кремля проходят ...</td>\n",
       "      <td>В Москве проходит посвященная Крещению Руси ли...</td>\n",
       "      <td>Путин</td>\n",
       "      <td>10:27</td>\n",
       "      <td>68</td>\n",
       "      <td>61</td>\n",
       "      <td>81</td>\n",
       "    </tr>\n",
       "    <tr>\n",
       "      <th>36</th>\n",
       "      <td>rns</td>\n",
       "      <td>https://rns.online/society/TSIK-ne-soglasoval-...</td>\n",
       "      <td>Центральная избирательная комиссия признала н...</td>\n",
       "      <td>ЦИК не согласовал предложенный для референдума...</td>\n",
       "      <td>депутат депутатов</td>\n",
       "      <td>17:46</td>\n",
       "      <td>38</td>\n",
       "      <td>60</td>\n",
       "      <td>230</td>\n",
       "    </tr>\n",
       "    <tr>\n",
       "      <th>37</th>\n",
       "      <td>rns</td>\n",
       "      <td>https://rns.online/society/Umer-pisatel-Vladim...</td>\n",
       "      <td>Писатель Владимир Войнович умер в возрасте 85...</td>\n",
       "      <td>Умер писатель Владимир Войнович</td>\n",
       "      <td>государстве государств</td>\n",
       "      <td>10:11</td>\n",
       "      <td>38</td>\n",
       "      <td>73</td>\n",
       "      <td>141</td>\n",
       "    </tr>\n",
       "    <tr>\n",
       "      <th>38</th>\n",
       "      <td>rbk</td>\n",
       "      <td>https://www.rbc.ru/politics/27/07/2018/5b5b81b...</td>\n",
       "      <td>Городской Ереванский суд решил выпустить под ...</td>\n",
       "      <td>Суд в Ереване решил отпустить под залог генсек...</td>\n",
       "      <td>оппозиция выборы выборов</td>\n",
       "      <td>27 июл, 23:44</td>\n",
       "      <td>30</td>\n",
       "      <td>61</td>\n",
       "      <td>277</td>\n",
       "    </tr>\n",
       "    <tr>\n",
       "      <th>39</th>\n",
       "      <td>rbk</td>\n",
       "      <td>https://www.rbc.ru/rbcfreenews/5b5c322c9a79474...</td>\n",
       "      <td>Совет Федерации одобрил на заседании 28 июля ...</td>\n",
       "      <td>Совфед одобрил закон о Дне принятия Крыма в со...</td>\n",
       "      <td>депутат депутатов Украина</td>\n",
       "      <td>12:07</td>\n",
       "      <td>46</td>\n",
       "      <td>60</td>\n",
       "      <td>192</td>\n",
       "    </tr>\n",
       "    <tr>\n",
       "      <th>40</th>\n",
       "      <td>rbk</td>\n",
       "      <td>https://www.rbc.ru/rbcfreenews/5b5be2859a79473...</td>\n",
       "      <td>Демократы, которые намерены открывать границы...</td>\n",
       "      <td>Трамп назвал некомпетентными желающих добиться...</td>\n",
       "      <td>границы границе границы границу Трамп Трампа</td>\n",
       "      <td>06:42</td>\n",
       "      <td>30</td>\n",
       "      <td>61</td>\n",
       "      <td>200</td>\n",
       "    </tr>\n",
       "    <tr>\n",
       "      <th>41</th>\n",
       "      <td>rbk</td>\n",
       "      <td>https://www.rbc.ru/rbcfreenews/5b5bbc739a79473...</td>\n",
       "      <td>Французский лидер Эмманюэль Макрон рассказал,...</td>\n",
       "      <td>Макрон рассказал о планах по созданию газопров...</td>\n",
       "      <td>саммит саммите Путин Путину</td>\n",
       "      <td>03:45</td>\n",
       "      <td>30</td>\n",
       "      <td>68</td>\n",
       "      <td>166</td>\n",
       "    </tr>\n",
       "    <tr>\n",
       "      <th>42</th>\n",
       "      <td>vedomosti</td>\n",
       "      <td>https://www.vedomosti.ru/politics/news/2018/07...</td>\n",
       "      <td>\\n                        Власти Греции имеют...</td>\n",
       "      <td>Греция назвала вероятную причину катастрофичес...</td>\n",
       "      <td>Власти</td>\n",
       "      <td>22:58</td>\n",
       "      <td>36</td>\n",
       "      <td>51</td>\n",
       "      <td>89</td>\n",
       "    </tr>\n",
       "    <tr>\n",
       "      <th>43</th>\n",
       "      <td>vedomosti</td>\n",
       "      <td>https://www.vedomosti.ru/politics/news/2018/07...</td>\n",
       "      <td>\\n                        Палата представител...</td>\n",
       "      <td>Конгресс США одобрил выделение Украине $250 мл...</td>\n",
       "      <td>Украине Украины</td>\n",
       "      <td>07:18</td>\n",
       "      <td>52</td>\n",
       "      <td>60</td>\n",
       "      <td>107</td>\n",
       "    </tr>\n",
       "    <tr>\n",
       "      <th>44</th>\n",
       "      <td>rbk</td>\n",
       "      <td>https://www.rbc.ru/rbcfreenews/5b5c50a99a79475...</td>\n",
       "      <td>На проспекте Академика Сахарова в Москве зако...</td>\n",
       "      <td>МВД и наблюдатели назвали число участников мит...</td>\n",
       "      <td>власти властям властями обществе коррупции ко...</td>\n",
       "      <td>14:40</td>\n",
       "      <td>50</td>\n",
       "      <td>74</td>\n",
       "      <td>256</td>\n",
       "    </tr>\n",
       "    <tr>\n",
       "      <th>45</th>\n",
       "      <td>rbk</td>\n",
       "      <td>https://www.rbc.ru/politics/28/07/2018/5b5b8bd...</td>\n",
       "      <td>Делегация Вселенского патриархата, которая пр...</td>\n",
       "      <td>Украина заявила о цели вселенского патриарха д...</td>\n",
       "      <td>депутат депутатов Украине Украины Депутат Деп...</td>\n",
       "      <td>01:21</td>\n",
       "      <td>42</td>\n",
       "      <td>71</td>\n",
       "      <td>461</td>\n",
       "    </tr>\n",
       "    <tr>\n",
       "      <th>46</th>\n",
       "      <td>rns</td>\n",
       "      <td>https://rns.online/society/Ukraina-predlozhila...</td>\n",
       "      <td>Уполномоченный по правам человека на Украине ...</td>\n",
       "      <td>Украина предложила обменять украинских заключе...</td>\n",
       "      <td>Украине Украины</td>\n",
       "      <td>19:57</td>\n",
       "      <td>55</td>\n",
       "      <td>60</td>\n",
       "      <td>106</td>\n",
       "    </tr>\n",
       "    <tr>\n",
       "      <th>47</th>\n",
       "      <td>rbk</td>\n",
       "      <td>https://www.rbc.ru/politics/28/07/2018/5b5c5a2...</td>\n",
       "      <td>Армения должна официально отозвать своего пре...</td>\n",
       "      <td>МИД ответил на требование Армении поменять ген...</td>\n",
       "      <td>государства государств государствам оппозиции...</td>\n",
       "      <td>15:07</td>\n",
       "      <td>30</td>\n",
       "      <td>85</td>\n",
       "      <td>305</td>\n",
       "    </tr>\n",
       "    <tr>\n",
       "      <th>48</th>\n",
       "      <td>rns</td>\n",
       "      <td>https://rns.online/society/Obvinyaemie-v-gibel...</td>\n",
       "      <td>Басманный суд Москвы заочно арестовал трех гр...</td>\n",
       "      <td>Обвиняемые в гибели летчика Филипова в Сирии з...</td>\n",
       "      <td>боевики Путин</td>\n",
       "      <td>20:09</td>\n",
       "      <td>38</td>\n",
       "      <td>61</td>\n",
       "      <td>170</td>\n",
       "    </tr>\n",
       "    <tr>\n",
       "      <th>49</th>\n",
       "      <td>vedomosti</td>\n",
       "      <td>https://www.vedomosti.ru/politics/news/2018/07...</td>\n",
       "      <td>\\n                        Отсрочки при выплат...</td>\n",
       "      <td>Генсек ООН сообщил о дефиците наличных в бюдже...</td>\n",
       "      <td>государство государства государств государств...</td>\n",
       "      <td>06:52</td>\n",
       "      <td>36</td>\n",
       "      <td>76</td>\n",
       "      <td>167</td>\n",
       "    </tr>\n",
       "    <tr>\n",
       "      <th>50</th>\n",
       "      <td>vedomosti</td>\n",
       "      <td>https://www.vedomosti.ru/politics/news/2018/07...</td>\n",
       "      <td>\\n                        Депутат от «Единой ...</td>\n",
       "      <td>Железняк ответил Неверову на упрек о «прогуле»...</td>\n",
       "      <td>партии депутат депутаты государстве государст...</td>\n",
       "      <td>12:06</td>\n",
       "      <td>36</td>\n",
       "      <td>91</td>\n",
       "      <td>213</td>\n",
       "    </tr>\n",
       "    <tr>\n",
       "      <th>51</th>\n",
       "      <td>rbk</td>\n",
       "      <td>https://www.rbc.ru/rbcfreenews/5b5bde4f9a79473...</td>\n",
       "      <td>В КНДР создана группа по ведению переговоров ...</td>\n",
       "      <td>СМИ узнали о создании в КНДР группы по развити...</td>\n",
       "      <td>власти саммит саммита Политик Политика Трамп ...</td>\n",
       "      <td>06:10</td>\n",
       "      <td>30</td>\n",
       "      <td>76</td>\n",
       "      <td>203</td>\n",
       "    </tr>\n",
       "  </tbody>\n",
       "</table>\n",
       "</div>"
      ],
      "text/plain": [
       "         site                                               link  \\\n",
       "0   vedomosti  https://www.vedomosti.ru/politics/news/2018/07...   \n",
       "1         rbk  https://www.rbc.ru/politics/27/07/2018/5b5b7e8...   \n",
       "2   vedomosti  https://www.vedomosti.ru/politics/news/2018/07...   \n",
       "3         rbk  https://www.rbc.ru/rbcfreenews/5b5b72779a79472...   \n",
       "4         rbk  https://www.rbc.ru/rbcfreenews/5b5b94019a79473...   \n",
       "5         rns  https://rns.online/society/SMI-Iosif-Kobzon-vp...   \n",
       "6   vedomosti  https://www.vedomosti.ru/politics/news/2018/07...   \n",
       "7   vedomosti  https://www.vedomosti.ru/politics/news/2018/07...   \n",
       "8         rbk  https://www.rbc.ru/rbcfreenews/5b5bcb9f9a79473...   \n",
       "9         rns  https://rns.online/society/Zaderzhan-vosmoi-po...   \n",
       "10        rbk  https://www.rbc.ru/rbcfreenews/5b5b9ab99a79473...   \n",
       "11        rns  https://rns.online/society/Poklonskaya-prokomm...   \n",
       "12  vedomosti  https://www.vedomosti.ru/politics/news/2018/07...   \n",
       "13        rns  https://rns.online/society/Putin-nazval-effekt...   \n",
       "14  vedomosti  https://www.vedomosti.ru/politics/news/2018/07...   \n",
       "15  vedomosti  https://www.vedomosti.ru/politics/news/2018/07...   \n",
       "16        rns  https://rns.online/society/Sovfed-odobril-zako...   \n",
       "17        rns  https://rns.online/society/Bivshii-posol-SSHa-...   \n",
       "18        rbk  https://www.rbc.ru/politics/27/07/2018/5b5b5ce...   \n",
       "19  vedomosti  https://www.vedomosti.ru/politics/news/2018/07...   \n",
       "20        rns  https://rns.online/society/Sovfed-odobril-zako...   \n",
       "21        rbk  https://www.rbc.ru/rbcfreenews/5b5c65f49a79475...   \n",
       "22  vedomosti  https://www.vedomosti.ru/politics/news/2018/07...   \n",
       "23        rbk  https://www.rbc.ru/politics/28/07/2018/5b5c4a4...   \n",
       "24        rns  https://rns.online/society/MID-Rossii-prizval-...   \n",
       "25  vedomosti  https://www.vedomosti.ru/politics/news/2018/07...   \n",
       "26        rbk  https://www.rbc.ru/rbcfreenews/5b5c1d589a79474...   \n",
       "27        rbk  https://www.rbc.ru/politics/28/07/2018/5b5c304...   \n",
       "28        rbk  https://www.rbc.ru/politics/27/07/2018/5b5b799...   \n",
       "29        rns  https://rns.online/society/V-Moskve-zavershils...   \n",
       "30        rbk  https://www.rbc.ru/politics/28/07/2018/5b5bf7b...   \n",
       "31  vedomosti  https://www.vedomosti.ru/politics/news/2018/07...   \n",
       "32        rbk  https://www.rbc.ru/rbcfreenews/5b5bfc139a79474...   \n",
       "33  vedomosti  https://www.vedomosti.ru/politics/news/2018/07...   \n",
       "34        rbk  https://www.rbc.ru/rbcfreenews/5b5ba5889a79473...   \n",
       "35        rns  https://rns.online/society/V-Moskve-prohodit-p...   \n",
       "36        rns  https://rns.online/society/TSIK-ne-soglasoval-...   \n",
       "37        rns  https://rns.online/society/Umer-pisatel-Vladim...   \n",
       "38        rbk  https://www.rbc.ru/politics/27/07/2018/5b5b81b...   \n",
       "39        rbk  https://www.rbc.ru/rbcfreenews/5b5c322c9a79474...   \n",
       "40        rbk  https://www.rbc.ru/rbcfreenews/5b5be2859a79473...   \n",
       "41        rbk  https://www.rbc.ru/rbcfreenews/5b5bbc739a79473...   \n",
       "42  vedomosti  https://www.vedomosti.ru/politics/news/2018/07...   \n",
       "43  vedomosti  https://www.vedomosti.ru/politics/news/2018/07...   \n",
       "44        rbk  https://www.rbc.ru/rbcfreenews/5b5c50a99a79475...   \n",
       "45        rbk  https://www.rbc.ru/politics/28/07/2018/5b5b8bd...   \n",
       "46        rns  https://rns.online/society/Ukraina-predlozhila...   \n",
       "47        rbk  https://www.rbc.ru/politics/28/07/2018/5b5c5a2...   \n",
       "48        rns  https://rns.online/society/Obvinyaemie-v-gibel...   \n",
       "49  vedomosti  https://www.vedomosti.ru/politics/news/2018/07...   \n",
       "50  vedomosti  https://www.vedomosti.ru/politics/news/2018/07...   \n",
       "51        rbk  https://www.rbc.ru/rbcfreenews/5b5bde4f9a79473...   \n",
       "\n",
       "                                                 text  \\\n",
       "0    \\n                        Арестованная в США ...   \n",
       "1    Бывший глава Армении Роберт Кочарян, обвиняем...   \n",
       "2    \\n                        Останки военнослужа...   \n",
       "3    Президент Эквадора Ленин Морено не давал расп...   \n",
       "4    Мэр Москвы Сергей Собянин уволил первого замр...   \n",
       "5    Сестра народного артиста СССР и депутата Госд...   \n",
       "6    \\n                        Премьер-министр РФ ...   \n",
       "7    \\n                        Национальный центр ...   \n",
       "8    Президент США Дональд Трамп заявил, что не до...   \n",
       "9    По делу о пытках в ярославской колонии задерж...   \n",
       "10   Глава Пентагона Джеймс Мэттис выступает за по...   \n",
       "11   Депутат Госдумы, бывший прокурор Крыма Наталь...   \n",
       "12   \\n                        Президент США Донал...   \n",
       "13   Россия проводит эффективную работу по борьбе ...   \n",
       "14   \\n                        Президент России Вл...   \n",
       "15   \\n                        Председатель комите...   \n",
       "16   Совет Федерации одобрил изменения, принятые в...   \n",
       "17   Бывший посол США в Киеве, директор Евразийско...   \n",
       "18   Обвиняемая в госизмене жительница Калининград...   \n",
       "19   \\n                        Президент России Вл...   \n",
       "20   Совет Федерации на заседании одобрил закон, к...   \n",
       "21   Юлия Шестун получила удостоверение кандидата ...   \n",
       "22   \\n                        Два британских истр...   \n",
       "23   Владимир Путин принял участие в торжествах, п...   \n",
       "24   МИД России призвал США отказаться от создания...   \n",
       "25   \\n                        Посольство России в...   \n",
       "26   Российская промышленность в интересах Министе...   \n",
       "27   Армения предложила государствам-членам Органи...   \n",
       "28   Министерство обороны США решило избавиться от...   \n",
       "29   В Москве на проспекте Академика Сахарова заве...   \n",
       "30   Бюджетные инвестиции в размере 1,32 млрд руб....   \n",
       "31   \\n                        На улице Маши Порыв...   \n",
       "32   Если бы Красная армия не вторглась на Украину...   \n",
       "33   \\n                        Следователь дал раз...   \n",
       "34   Президент Турции Реджеп Тайип Эрдоган намерен...   \n",
       "35   В Москве на Соборной площади Кремля проходят ...   \n",
       "36   Центральная избирательная комиссия признала н...   \n",
       "37   Писатель Владимир Войнович умер в возрасте 85...   \n",
       "38   Городской Ереванский суд решил выпустить под ...   \n",
       "39   Совет Федерации одобрил на заседании 28 июля ...   \n",
       "40   Демократы, которые намерены открывать границы...   \n",
       "41   Французский лидер Эмманюэль Макрон рассказал,...   \n",
       "42   \\n                        Власти Греции имеют...   \n",
       "43   \\n                        Палата представител...   \n",
       "44   На проспекте Академика Сахарова в Москве зако...   \n",
       "45   Делегация Вселенского патриархата, которая пр...   \n",
       "46   Уполномоченный по правам человека на Украине ...   \n",
       "47   Армения должна официально отозвать своего пре...   \n",
       "48   Басманный суд Москвы заочно арестовал трех гр...   \n",
       "49   \\n                        Отсрочки при выплат...   \n",
       "50   \\n                        Депутат от «Единой ...   \n",
       "51   В КНДР создана группа по ведению переговоров ...   \n",
       "\n",
       "                                               header  \\\n",
       "0   Bloomberg сообщил о связях Бутиной с наследник...   \n",
       "1   Суд арестовал экс-президента Армении Роберта К...   \n",
       "2   Белый дом сообщил о передаче Северной Кореей о...   \n",
       "3   Власти Эквадора опровергли предложение выгнать...   \n",
       "4   Собянин уволил замглавы департамента экономиче...   \n",
       "5   Сестра Иосифа Кобзона опровергла  информацию о...   \n",
       "6   Правительство выделило 1,3 млрд рублей на моде...   \n",
       "7   Разведка США назвала Россию одним из трех лиде...   \n",
       "8   Трамп заявил о недопустимости иностранного вме...   \n",
       "9   Задержан восьмой подозреваемый по делу о пытка...   \n",
       "10  Мэттис выступил за постоянные контакты России ...   \n",
       "11  Поклонская прокомментировала критику Родниной ...   \n",
       "12    Белый дом назвал условие визита Трампа в Москву   \n",
       "13  Путин назвал эффективной работу России по борь...   \n",
       "14                    Путин пригласил Трампа в Москву   \n",
       "15  Трампу дали две недели на обдумывание антиросс...   \n",
       "16  Совфед одобрил закон о контроле за расходами б...   \n",
       "17  Бывший посол США в Киеве заявил о вторжении Кр...   \n",
       "18  Обвиняемая в госизмене рассказала о желании по...   \n",
       "19  Путин согласился пойти с Эрдоганом в ресторан ...   \n",
       "20          Совфед одобрил закон о Дне принятия Крыма   \n",
       "21  Супруга главы Серпуховского района стала канди...   \n",
       "22  Британские истребители сблизились с российским...   \n",
       "23  Путин заявил о мудрости предпринявших Крещение...   \n",
       "24  МИД России призвал США отказаться от гонки воо...   \n",
       "25  Российские дипломаты рассказали о «проблемах с...   \n",
       "26  Вице-премьер пообещал армии России новое страт...   \n",
       "27            Армения предложила сменить генсека ОДКБ   \n",
       "28  Пентагон решил блокировать закупку программ с ...   \n",
       "29  В Москве завершился митинг против повышения пе...   \n",
       "30  Медведев выделил ОАК 1,3 млрд руб. на модерниз...   \n",
       "31  В Москве началось шествие против пенсионной ре...   \n",
       "32  Экс-посол США в Киеве заявил о вторжении Красн...   \n",
       "33  К арестованному главе Серпуховского района доп...   \n",
       "34  СМИ узнали о визите Эрдогана в Германию впервы...   \n",
       "35  В Москве проходит посвященная Крещению Руси ли...   \n",
       "36  ЦИК не согласовал предложенный для референдума...   \n",
       "37                   Умер писатель Владимир Войнович    \n",
       "38  Суд в Ереване решил отпустить под залог генсек...   \n",
       "39  Совфед одобрил закон о Дне принятия Крыма в со...   \n",
       "40  Трамп назвал некомпетентными желающих добиться...   \n",
       "41  Макрон рассказал о планах по созданию газопров...   \n",
       "42  Греция назвала вероятную причину катастрофичес...   \n",
       "43  Конгресс США одобрил выделение Украине $250 мл...   \n",
       "44  МВД и наблюдатели назвали число участников мит...   \n",
       "45  Украина заявила о цели вселенского патриарха д...   \n",
       "46  Украина предложила обменять украинских заключе...   \n",
       "47  МИД ответил на требование Армении поменять ген...   \n",
       "48  Обвиняемые в гибели летчика Филипова в Сирии з...   \n",
       "49  Генсек ООН сообщил о дефиците наличных в бюдже...   \n",
       "50  Железняк ответил Неверову на упрек о «прогуле»...   \n",
       "51  СМИ узнали о создании в КНДР группы по развити...   \n",
       "\n",
       "                                              tickers           time  score  \\\n",
       "0                                 партии Путин Путина          22:46     36   \n",
       "1                                             выборах  27 июл, 23:25     30   \n",
       "2       властям властями саммит саммита Трамп Трампом          05:35     42   \n",
       "3                                              власти  27 июл, 22:44     30   \n",
       "4                                             политик          00:52     30   \n",
       "5                                    депутат депутата          13:06     38   \n",
       "6                                            общество          15:57     36   \n",
       "7                              государстве государств          21:40     36   \n",
       "8    власти властям властями государства государст...          04:50     62   \n",
       "9                                            Обществе          11:58     38   \n",
       "10                                 государств ядерные          01:21     30   \n",
       "11       депутат депутата депутатов депутатам Депутат          19:06     38   \n",
       "12   саммит саммите выборы выборов Путин Путина Тр...          18:24     52   \n",
       "13                      государств Путин Путина Запад          23:10     38   \n",
       "14   саммит саммита саммите выборы выборов Путин П...          16:04     52   \n",
       "15   власти санкция санкции санкциях Путин Трамп Т...          07:59     38   \n",
       "16   государства государстве государств коррупции ...          12:20     38   \n",
       "17                                    Украине Украины          11:28     58   \n",
       "18                             государстве государств  27 июл, 21:11     30   \n",
       "19                        саммит саммита Путин Путина          06:06     43   \n",
       "20                                   депутат депутаты          12:56     48   \n",
       "21          политик политика политику выборов выборах          15:52     46   \n",
       "22                                            граница          15:13     36   \n",
       "23   государства государстве государств государств...          14:26     48   \n",
       "24                                    политик ядерных          21:09     38   \n",
       "25                                             власти          09:48     36   \n",
       "26                       Путин Государстве Государств          10:39     30   \n",
       "27        государства государств государствам выборах          11:59     30   \n",
       "28    государства государстве государств государствах  27 июл, 23:11     30   \n",
       "29                          властям властями обществе          15:49     60   \n",
       "30                                 общество обществом          08:07     30   \n",
       "31    власти властям властями обществе партии партией          12:19     42   \n",
       "32   государства государстве государств Украине Ук...          08:23     57   \n",
       "33                                    выборов выборах          16:34     52   \n",
       "34     власти властям властями государстве государств          02:08     37   \n",
       "35                                              Путин          10:27     68   \n",
       "36                                  депутат депутатов          17:46     38   \n",
       "37                             государстве государств          10:11     38   \n",
       "38                           оппозиция выборы выборов  27 июл, 23:44     30   \n",
       "39                          депутат депутатов Украина          12:07     46   \n",
       "40       границы границе границы границу Трамп Трампа          06:42     30   \n",
       "41                        саммит саммите Путин Путину          03:45     30   \n",
       "42                                             Власти          22:58     36   \n",
       "43                                    Украине Украины          07:18     52   \n",
       "44   власти властям властями обществе коррупции ко...          14:40     50   \n",
       "45   депутат депутатов Украине Украины Депутат Деп...          01:21     42   \n",
       "46                                    Украине Украины          19:57     55   \n",
       "47   государства государств государствам оппозиции...          15:07     30   \n",
       "48                                      боевики Путин          20:09     38   \n",
       "49   государство государства государств государств...          06:52     36   \n",
       "50   партии депутат депутаты государстве государст...          12:06     36   \n",
       "51   власти саммит саммита Политик Политика Трамп ...          06:10     30   \n",
       "\n",
       "    score_tickers  count  \n",
       "0              67    226  \n",
       "1              54    285  \n",
       "2              76    115  \n",
       "3              58    172  \n",
       "4              55    123  \n",
       "5              58    103  \n",
       "6              52    114  \n",
       "7              73    150  \n",
       "8             109    153  \n",
       "9              51    110  \n",
       "10             65    140  \n",
       "11             63    207  \n",
       "12             92    183  \n",
       "13             79    127  \n",
       "14             96    248  \n",
       "15             74    184  \n",
       "16             84    116  \n",
       "17             60    141  \n",
       "18             73    138  \n",
       "19             73    150  \n",
       "20             58     95  \n",
       "21             64    172  \n",
       "22             51    125  \n",
       "23            104    295  \n",
       "24             55    164  \n",
       "25             58    152  \n",
       "26             63    152  \n",
       "27             78    259  \n",
       "28             80    288  \n",
       "29             63     72  \n",
       "30             52    206  \n",
       "31             72    209  \n",
       "32             89    251  \n",
       "33             60    207  \n",
       "34             90    193  \n",
       "35             61     81  \n",
       "36             60    230  \n",
       "37             73    141  \n",
       "38             61    277  \n",
       "39             60    192  \n",
       "40             61    200  \n",
       "41             68    166  \n",
       "42             51     89  \n",
       "43             60    107  \n",
       "44             74    256  \n",
       "45             71    461  \n",
       "46             60    106  \n",
       "47             85    305  \n",
       "48             61    170  \n",
       "49             76    167  \n",
       "50             91    213  \n",
       "51             76    203  "
      ]
     },
     "execution_count": 968,
     "metadata": {},
     "output_type": "execute_result"
    }
   ],
   "source": [
    "df"
   ]
  },
  {
   "cell_type": "code",
   "execution_count": null,
   "metadata": {
    "collapsed": false
   },
   "outputs": [],
   "source": []
  },
  {
   "cell_type": "code",
   "execution_count": null,
   "metadata": {
    "collapsed": true
   },
   "outputs": [],
   "source": []
  }
 ],
 "metadata": {
  "kernelspec": {
   "display_name": "Python 2",
   "language": "python",
   "name": "python2"
  },
  "language_info": {
   "codemirror_mode": {
    "name": "ipython",
    "version": 2
   },
   "file_extension": ".py",
   "mimetype": "text/x-python",
   "name": "python",
   "nbconvert_exporter": "python",
   "pygments_lexer": "ipython2",
   "version": "2.7.12"
  },
  "widgets": {
   "state": {
    "00fcf44434e64ef6b0e1e168a72f0f89": {
     "views": [
      {
       "cell_index": 15
      }
     ]
    },
    "0260d94443b94d6cada0dfa8cade592d": {
     "views": [
      {
       "cell_index": 12
      }
     ]
    },
    "028733ff75ef449ea649a7cfbe2094fb": {
     "views": [
      {
       "cell_index": 14
      }
     ]
    },
    "028cad5146534b59be49600985d20ae0": {
     "views": [
      {
       "cell_index": 12
      }
     ]
    },
    "032f9975d4224290bc90bb04853b7153": {
     "views": [
      {
       "cell_index": 10
      }
     ]
    },
    "03e7aa349bdc4fad920f1ed286897594": {
     "views": [
      {
       "cell_index": 15
      }
     ]
    },
    "04c2c5a4c3bb4cf1be2fccc08ad07262": {
     "views": [
      {
       "cell_index": 14
      }
     ]
    },
    "0597536286c64d20b050edfa2fd112d7": {
     "views": [
      {
       "cell_index": 14
      }
     ]
    },
    "0682bf9e795d4d86ab7d8f2c6a93c47c": {
     "views": [
      {
       "cell_index": 14
      }
     ]
    },
    "06ea2c4449a646639826c504935069d9": {
     "views": [
      {
       "cell_index": 14
      }
     ]
    },
    "08033cc1a9b542a5bc366732d0266745": {
     "views": [
      {
       "cell_index": 16
      }
     ]
    },
    "08563b0a43d947578bf4e279a192272b": {
     "views": [
      {
       "cell_index": 15
      }
     ]
    },
    "09a90f83a916474f8dbead7ae91cf145": {
     "views": [
      {
       "cell_index": 10
      }
     ]
    },
    "0a51abe567724ca794719fc9b175831e": {
     "views": [
      {
       "cell_index": 14
      }
     ]
    },
    "0b29a9ddbd8f4707b87f4216411ad73f": {
     "views": [
      {
       "cell_index": 14
      }
     ]
    },
    "0c029193c534485ca3557b5dc3b39da2": {
     "views": [
      {
       "cell_index": 14
      }
     ]
    },
    "0d979d79fe53408498a4fcfceb77465d": {
     "views": [
      {
       "cell_index": 14
      }
     ]
    },
    "0df20578fc544333bea52bfb89c236e1": {
     "views": [
      {
       "cell_index": 15
      }
     ]
    },
    "0df6857e27c54736a98ca88ea49553a5": {
     "views": [
      {
       "cell_index": 14
      }
     ]
    },
    "0ed72a9e3cec401887a6b062f4b8380e": {
     "views": [
      {
       "cell_index": 15
      }
     ]
    },
    "0ee297429bd946bdadb0eff8c621d346": {
     "views": [
      {
       "cell_index": 12
      }
     ]
    },
    "0eeec85d08934e9297abefebb7e01165": {
     "views": [
      {
       "cell_index": 16
      }
     ]
    },
    "0f4c3b6478454e7aaa5b21aa4ff2d533": {
     "views": [
      {
       "cell_index": 14
      }
     ]
    },
    "10d1a3a2bb8b4396bba459c013c5a46a": {
     "views": [
      {
       "cell_index": 14
      }
     ]
    },
    "1515cc856dde4d9e9ea8521e2eae7504": {
     "views": [
      {
       "cell_index": 12
      }
     ]
    },
    "16c1154515474ca796e56865c818f066": {
     "views": [
      {
       "cell_index": 14
      }
     ]
    },
    "16e9b5c488c64b5f9c0605d84bf3bc65": {
     "views": [
      {
       "cell_index": 15
      }
     ]
    },
    "171c1621a8e24ada9c2b542bfda03011": {
     "views": [
      {
       "cell_index": 15
      }
     ]
    },
    "17258921cce14f34bd5eed177a7d44b4": {
     "views": [
      {
       "cell_index": 15
      }
     ]
    },
    "175d11617ee54d86b56056ca4ee1a181": {
     "views": [
      {
       "cell_index": 15
      }
     ]
    },
    "191ad74717284fad9c36ffdf78c9796a": {
     "views": [
      {
       "cell_index": 14
      }
     ]
    },
    "19a9f8fba3494ca7889a3b4ca4b29354": {
     "views": [
      {
       "cell_index": 14
      }
     ]
    },
    "1b14745c6bcf42f7a175286570df90bc": {
     "views": [
      {
       "cell_index": 15
      }
     ]
    },
    "1d434ae68f484efabfc97f5a056cd16b": {
     "views": [
      {
       "cell_index": 14
      }
     ]
    },
    "1fa18bea97f64c989b5aa928c40ddf4a": {
     "views": [
      {
       "cell_index": 12
      }
     ]
    },
    "1fc7e1847ed445d497b8c4077d630c51": {
     "views": [
      {
       "cell_index": 12
      }
     ]
    },
    "20417afbe182443da269000641a4021f": {
     "views": [
      {
       "cell_index": 12
      }
     ]
    },
    "20e4f5b1812e439e80239e04234e48c4": {
     "views": [
      {
       "cell_index": 14
      }
     ]
    },
    "2185570d0e324470827b44159c23ec69": {
     "views": [
      {
       "cell_index": 10
      }
     ]
    },
    "22dfac7a6e0d4414aebea8ef3bc505a4": {
     "views": [
      {
       "cell_index": 15
      }
     ]
    },
    "22e15780a9d34ef3a7d1d696cd0007e8": {
     "views": [
      {
       "cell_index": 14
      }
     ]
    },
    "2397b1b96a60465493a710083ee6bab5": {
     "views": [
      {
       "cell_index": 15
      }
     ]
    },
    "24a10ccae19f4e2f83ca2410ef82ab9c": {
     "views": [
      {
       "cell_index": 14
      }
     ]
    },
    "24c0ea7a383045bf844878721e571bdf": {
     "views": [
      {
       "cell_index": 12
      }
     ]
    },
    "253169ed240a438883cdbe6adc302a28": {
     "views": [
      {
       "cell_index": 14
      }
     ]
    },
    "25a1c040d764472e85fed274cfda2280": {
     "views": [
      {
       "cell_index": 14
      }
     ]
    },
    "26e10717cdd5405b8fdff7b3fd45f603": {
     "views": [
      {
       "cell_index": 14
      }
     ]
    },
    "2804ac695128417f81bf0d0b0f365016": {
     "views": [
      {
       "cell_index": 12
      }
     ]
    },
    "2843bc04669d49beade3463c8c1057a6": {
     "views": [
      {
       "cell_index": 16
      }
     ]
    },
    "2877333317f34c48bab01fbb81378b54": {
     "views": [
      {
       "cell_index": 14
      }
     ]
    },
    "289fe9fc3dbb4d188d70fbcf0a6f267a": {
     "views": [
      {
       "cell_index": 15
      }
     ]
    },
    "2cdb7d3265224106b2f84c9b551c1e28": {
     "views": [
      {
       "cell_index": 17
      }
     ]
    },
    "2cf364af092344ceb812f4db62cef8f4": {
     "views": [
      {
       "cell_index": 14
      }
     ]
    },
    "2d3cbd8485a048d896155c1d8af8505a": {
     "views": [
      {
       "cell_index": 14
      }
     ]
    },
    "2ec8db8597b94565a18bce0acf0dd31b": {
     "views": [
      {
       "cell_index": 14
      }
     ]
    },
    "31ab24af58bf4e29a831a6f15d29e053": {
     "views": [
      {
       "cell_index": 17
      }
     ]
    },
    "31af6e206996407caa1abe002db93629": {
     "views": [
      {
       "cell_index": 14
      }
     ]
    },
    "324fe9b8e1c148a9aa8d8fc99534dd19": {
     "views": [
      {
       "cell_index": 14
      }
     ]
    },
    "34154410b718416aa512e035f0b08c58": {
     "views": [
      {
       "cell_index": 16
      }
     ]
    },
    "34d788d13a144e41a90c616e7dbcf748": {
     "views": [
      {
       "cell_index": 15
      }
     ]
    },
    "3699d8887b4d43a08988e37966a3d7ca": {
     "views": [
      {
       "cell_index": 17
      }
     ]
    },
    "3774212d32934b0bbba18b4502a9b86e": {
     "views": [
      {
       "cell_index": 15
      }
     ]
    },
    "37b70ed86cd2494c9ce08992f4bd324d": {
     "views": [
      {
       "cell_index": 14
      }
     ]
    },
    "3912ff2324484dc5a92d04e2570b2bb4": {
     "views": [
      {
       "cell_index": 15
      }
     ]
    },
    "3953f80bd0b74d26900701e50160d884": {
     "views": [
      {
       "cell_index": 12
      }
     ]
    },
    "39d7d1b588b744ffba2d6f0edc6a56b6": {
     "views": [
      {
       "cell_index": 14
      }
     ]
    },
    "3b3c424e73704596aef83d1061c59358": {
     "views": [
      {
       "cell_index": 14
      }
     ]
    },
    "3c893ad9772b4e24929e12aa31069a9e": {
     "views": [
      {
       "cell_index": 14
      }
     ]
    },
    "3d4ec40e163047efb3eb50e1256a45cf": {
     "views": [
      {
       "cell_index": 17
      }
     ]
    },
    "3dc46b66affc4c12b19cd6bbbad79379": {
     "views": [
      {
       "cell_index": 14
      }
     ]
    },
    "3e3c38ce43614106b392d0193d302e21": {
     "views": [
      {
       "cell_index": 16
      }
     ]
    },
    "3e62a83491ce49e18cb2d1b4429eec0d": {
     "views": [
      {
       "cell_index": 14
      }
     ]
    },
    "41f3bb67b2794b009388e0e970c9ab9d": {
     "views": [
      {
       "cell_index": 12
      }
     ]
    },
    "4257c319e50d468b97d230fc267ec5f4": {
     "views": [
      {
       "cell_index": 14
      }
     ]
    },
    "42645ec20db64e3b95e882428b9e6770": {
     "views": [
      {
       "cell_index": 17
      }
     ]
    },
    "42b548b915474ba99085fc86dcca575a": {
     "views": [
      {
       "cell_index": 15
      }
     ]
    },
    "432f6fbab6ff4332b8bbb183d4fe63d9": {
     "views": [
      {
       "cell_index": 15
      }
     ]
    },
    "434b26e67a9845dbbe4f26159d27398c": {
     "views": [
      {
       "cell_index": 14
      }
     ]
    },
    "43857bb80f6f4be788d9150066c4e240": {
     "views": [
      {
       "cell_index": 15
      }
     ]
    },
    "43e06eb79ac6460abc3f9946f5bad2fd": {
     "views": [
      {
       "cell_index": 15
      }
     ]
    },
    "477a1586041845fc9d9c4f93f51f37ea": {
     "views": [
      {
       "cell_index": 14
      }
     ]
    },
    "48ca1af6afff4c4a97d8763900bb9400": {
     "views": [
      {
       "cell_index": 15
      }
     ]
    },
    "49a10ea3aa0a4b5d9b83cd7de1648ed4": {
     "views": [
      {
       "cell_index": 14
      }
     ]
    },
    "4a57ef47bcc64b1bbe60c6510231d173": {
     "views": [
      {
       "cell_index": 14
      }
     ]
    },
    "4cb23470b3d34d4ab721887944b9e08c": {
     "views": [
      {
       "cell_index": 14
      }
     ]
    },
    "4d34dff6604b46858483a349a4b9e90a": {
     "views": [
      {
       "cell_index": 14
      }
     ]
    },
    "4ec8d142194445a7b4f30099dbfa1db5": {
     "views": [
      {
       "cell_index": 12
      }
     ]
    },
    "4f304848813e4e7390d1198ba36dda11": {
     "views": [
      {
       "cell_index": 14
      }
     ]
    },
    "504bcb0e13fe427992333dc6f8d4246a": {
     "views": [
      {
       "cell_index": 14
      }
     ]
    },
    "50f0d99da7cb48788aa7958e22a7a9f3": {
     "views": [
      {
       "cell_index": 15
      }
     ]
    },
    "52a720d28c704a728583d92b9d6a5683": {
     "views": [
      {
       "cell_index": 15
      }
     ]
    },
    "52b6c6eee77345a6b74c5115b5e90d46": {
     "views": [
      {
       "cell_index": 15
      }
     ]
    },
    "537a2255f57c4d40839e462dedabdba6": {
     "views": [
      {
       "cell_index": 14
      }
     ]
    },
    "543e28d2ee3942c4a73cf2402ad9795c": {
     "views": [
      {
       "cell_index": 14
      }
     ]
    },
    "54d7461291054a089053e0ea9a80fe4e": {
     "views": [
      {
       "cell_index": 16
      }
     ]
    },
    "551e05694bf94bc3a6fed7b89426508a": {
     "views": [
      {
       "cell_index": 15
      }
     ]
    },
    "55c9a43e70934229b7f8354ae75ea2d5": {
     "views": [
      {
       "cell_index": 14
      }
     ]
    },
    "573e3869868143eeb87074955b4cc5cd": {
     "views": [
      {
       "cell_index": 14
      }
     ]
    },
    "577d4a204a86448ab122af63db361fe5": {
     "views": [
      {
       "cell_index": 16
      }
     ]
    },
    "5a8569d67a8a4c9fa2c93007d4009644": {
     "views": [
      {
       "cell_index": 17
      }
     ]
    },
    "5b464367b91a4f22b4b4bf744ebed562": {
     "views": [
      {
       "cell_index": 15
      }
     ]
    },
    "5b63369e7c014cdbb47818576254d89e": {
     "views": [
      {
       "cell_index": 15
      }
     ]
    },
    "5de4b6bc17c4432c82ab577a12869563": {
     "views": [
      {
       "cell_index": 14
      }
     ]
    },
    "602bef9306ac479397681a4b071292bf": {
     "views": [
      {
       "cell_index": 15
      }
     ]
    },
    "608ff0c16d8249429c6e562ed4fd9447": {
     "views": [
      {
       "cell_index": 15
      }
     ]
    },
    "60d239f9d7d640c3b97d05ffcca9cdfe": {
     "views": [
      {
       "cell_index": 14
      }
     ]
    },
    "6186663f4a204c69818008c784dfb4de": {
     "views": [
      {
       "cell_index": 14
      }
     ]
    },
    "624a66781c6d40e09f1cf714a43d6c49": {
     "views": [
      {
       "cell_index": 16
      }
     ]
    },
    "63acd39977e14145adb8623fd084d776": {
     "views": [
      {
       "cell_index": 14
      }
     ]
    },
    "652a125bec8b499fa9bf570bed269f74": {
     "views": [
      {
       "cell_index": 14
      }
     ]
    },
    "6763e82f3f80499594418465031cdd23": {
     "views": [
      {
       "cell_index": 12
      }
     ]
    },
    "67c25249c699443ba71dad51d54c2640": {
     "views": [
      {
       "cell_index": 14
      }
     ]
    },
    "6801a6ba2615456988f82de3ec824683": {
     "views": [
      {
       "cell_index": 15
      }
     ]
    },
    "69c5c8a4e98f4fe2a9e1f6808f5e7f3e": {
     "views": [
      {
       "cell_index": 15
      }
     ]
    },
    "6ab2f79944c74646a5d227ec3c803d17": {
     "views": [
      {
       "cell_index": 14
      }
     ]
    },
    "6b0a3683cddc41ca837e47f46677c4dc": {
     "views": [
      {
       "cell_index": 14
      }
     ]
    },
    "6bc6c7e5dd3a46c8992d709a800af9eb": {
     "views": [
      {
       "cell_index": 15
      }
     ]
    },
    "6c306de1c01a4f019aae1a224cdeb491": {
     "views": [
      {
       "cell_index": 16
      }
     ]
    },
    "6ce0a7d82f4a4d61aebca4544ab7b0f1": {
     "views": [
      {
       "cell_index": 14
      }
     ]
    },
    "6f6db57b21654f9caf42df99c11267f2": {
     "views": [
      {
       "cell_index": 15
      }
     ]
    },
    "6f8e1187c29a407bb44ef4b95da0ebeb": {
     "views": [
      {
       "cell_index": 14
      }
     ]
    },
    "707a03a062b24a7aa11d02b43f2c6fef": {
     "views": [
      {
       "cell_index": 14
      }
     ]
    },
    "719cf10796fa436e8480161933717716": {
     "views": [
      {
       "cell_index": 15
      }
     ]
    },
    "724b1b6f0c2c40d18d75b9d7ce7aad53": {
     "views": [
      {
       "cell_index": 15
      }
     ]
    },
    "73a5b281c7794b1c847ca3060d3783f2": {
     "views": [
      {
       "cell_index": 17
      }
     ]
    },
    "73bcb2ee03704e38b0cde834c546ceb8": {
     "views": [
      {
       "cell_index": 12
      }
     ]
    },
    "76ff77cb7f524252aeb8426996802f23": {
     "views": [
      {
       "cell_index": 14
      }
     ]
    },
    "78e1fa0c0b0148f8bdbb7e69cd04136f": {
     "views": [
      {
       "cell_index": 12
      }
     ]
    },
    "7928e05489fd4d86b67d8acf3f600787": {
     "views": [
      {
       "cell_index": 15
      }
     ]
    },
    "79f7989010204441933e504bdb205255": {
     "views": [
      {
       "cell_index": 15
      }
     ]
    },
    "7a495f5c51d1416b88fdf4af44dd1cbc": {
     "views": [
      {
       "cell_index": 12
      }
     ]
    },
    "7a8ea60df4b644408182bb192f1a188c": {
     "views": [
      {
       "cell_index": 16
      }
     ]
    },
    "7ac8fe04fa234886bc7e98fcfcc5e644": {
     "views": [
      {
       "cell_index": 14
      }
     ]
    },
    "7b3623115a23402ca94fbd2ab31d9d79": {
     "views": [
      {
       "cell_index": 15
      }
     ]
    },
    "7b42a29d811e49a79028e68c76744a45": {
     "views": [
      {
       "cell_index": 12
      }
     ]
    },
    "7b840374e3424f4485402c8509428e3f": {
     "views": [
      {
       "cell_index": 12
      }
     ]
    },
    "7c256ac2e95c4c2d96deb14499345962": {
     "views": [
      {
       "cell_index": 15
      }
     ]
    },
    "7caaac23e63743a3a7637e287a21e0ef": {
     "views": [
      {
       "cell_index": 14
      }
     ]
    },
    "7efea84a9acd400c94835c55dd930aee": {
     "views": [
      {
       "cell_index": 14
      }
     ]
    },
    "809bb68add9741a48ff49a02e5531ec8": {
     "views": [
      {
       "cell_index": 14
      }
     ]
    },
    "80e009f9c239446fb1f5c2d6a08322fc": {
     "views": [
      {
       "cell_index": 15
      }
     ]
    },
    "8185ebabd13c4cc5bc34d5286e45ec1b": {
     "views": [
      {
       "cell_index": 14
      }
     ]
    },
    "824dbf19a42a45138031e1f6761d31c2": {
     "views": [
      {
       "cell_index": 14
      }
     ]
    },
    "8468271637a246699d630ac7340ddd0f": {
     "views": [
      {
       "cell_index": 16
      }
     ]
    },
    "84d4f59c368f4afe8538d20820043e7e": {
     "views": [
      {
       "cell_index": 14
      }
     ]
    },
    "851147f9be88475ca8e6270cda76cc01": {
     "views": [
      {
       "cell_index": 14
      }
     ]
    },
    "8700dd93883d4db6bd60b4876ea5caef": {
     "views": [
      {
       "cell_index": 15
      }
     ]
    },
    "892d10e7fb9b464eb4767bf93e8293be": {
     "views": [
      {
       "cell_index": 10
      }
     ]
    },
    "898b894096864ef4a5b061c9130d18d2": {
     "views": [
      {
       "cell_index": 14
      }
     ]
    },
    "8cdec9314e6e462ab61a88263c7675c9": {
     "views": [
      {
       "cell_index": 17
      }
     ]
    },
    "8d822ef12d3c48bcb5adeb82f53dd7db": {
     "views": [
      {
       "cell_index": 15
      }
     ]
    },
    "8eec13b4b56347a090ca9558d11e07d5": {
     "views": [
      {
       "cell_index": 17
      }
     ]
    },
    "8fc5029744e54fb6befb601f0b826598": {
     "views": [
      {
       "cell_index": 14
      }
     ]
    },
    "937e71a3ca7f40a4b4b3671b21b901fb": {
     "views": [
      {
       "cell_index": 14
      }
     ]
    },
    "93946dbf1c914466875e606d9c599dc5": {
     "views": [
      {
       "cell_index": 15
      }
     ]
    },
    "94bbfb65027143028d90b35c28a0e87e": {
     "views": [
      {
       "cell_index": 15
      }
     ]
    },
    "9579a817c321435bb6309027a4201843": {
     "views": [
      {
       "cell_index": 14
      }
     ]
    },
    "96652b34c43c434c8a1c8e2cb85109e5": {
     "views": [
      {
       "cell_index": 14
      }
     ]
    },
    "97b03eda0aef4f23a80e2b7f224cea0b": {
     "views": [
      {
       "cell_index": 12
      }
     ]
    },
    "97dda9bb624d4cb4b3992cec7a5bc0e5": {
     "views": [
      {
       "cell_index": 15
      }
     ]
    },
    "9854b63663d34fc5b989275610b47d87": {
     "views": [
      {
       "cell_index": 15
      }
     ]
    },
    "99133242ed974fe1af3846d5453cb91b": {
     "views": [
      {
       "cell_index": 14
      }
     ]
    },
    "99136eedaf5740f388c67a9c7df39974": {
     "views": [
      {
       "cell_index": 16
      }
     ]
    },
    "99d261dab1f5486db2e35e756ece7c59": {
     "views": [
      {
       "cell_index": 15
      }
     ]
    },
    "9a7455a4cc044dd18cc599649b1e89f4": {
     "views": [
      {
       "cell_index": 15
      }
     ]
    },
    "9a83e6fa0a8b476ab3e0fcfcea3ef450": {
     "views": [
      {
       "cell_index": 14
      }
     ]
    },
    "9c822f2124da471dbf4ad207ce7dce21": {
     "views": [
      {
       "cell_index": 17
      }
     ]
    },
    "9d0b827f54154051913e48ca0bfadd26": {
     "views": [
      {
       "cell_index": 16
      }
     ]
    },
    "9dca7cceb5ed4574b07b828126dc6a3d": {
     "views": [
      {
       "cell_index": 14
      }
     ]
    },
    "9dd4ad7e281048a9a6e9a18149565343": {
     "views": [
      {
       "cell_index": 12
      }
     ]
    },
    "9f260e73b7a6419db0e5466ab2eefbf2": {
     "views": [
      {
       "cell_index": 14
      }
     ]
    },
    "a0c8c2f8ca994bcca33f36d0605b09a5": {
     "views": [
      {
       "cell_index": 12
      }
     ]
    },
    "a31d54c7b3fa4f7295f0da5894ec69c0": {
     "views": [
      {
       "cell_index": 14
      }
     ]
    },
    "a4db19950b9342b69f063202acddf8b0": {
     "views": [
      {
       "cell_index": 15
      }
     ]
    },
    "a50309bb0fae40d3bcef4c97986c5d73": {
     "views": [
      {
       "cell_index": 16
      }
     ]
    },
    "a505c7ba20334151a185009b2011a91d": {
     "views": [
      {
       "cell_index": 14
      }
     ]
    },
    "a5c6a545d2b8433fb07437acdb9bb58b": {
     "views": [
      {
       "cell_index": 12
      }
     ]
    },
    "a64de63dc84c43ffb58cf617c2a57f85": {
     "views": [
      {
       "cell_index": 15
      }
     ]
    },
    "a684ef6b42c74634805935f6c27048f5": {
     "views": [
      {
       "cell_index": 15
      }
     ]
    },
    "a69196c38d8741ec87376d6b32d9318f": {
     "views": [
      {
       "cell_index": 15
      }
     ]
    },
    "a839a606d936429da49b47dee2ad46e2": {
     "views": [
      {
       "cell_index": 17
      }
     ]
    },
    "ab725b511d2b4e6690bb59f067cc992a": {
     "views": [
      {
       "cell_index": 14
      }
     ]
    },
    "acdd24fa7d9a4e72b5356082debcbcbd": {
     "views": [
      {
       "cell_index": 15
      }
     ]
    },
    "aedbc1c88b3b44429f12016ca6d01ffd": {
     "views": [
      {
       "cell_index": 12
      }
     ]
    },
    "afcedbeaf62244f1bb82d7c6a490d101": {
     "views": [
      {
       "cell_index": 16
      }
     ]
    },
    "b4a87a90d3ed4a4bbfa7585280bc2b89": {
     "views": [
      {
       "cell_index": 14
      }
     ]
    },
    "b6858fce68b948429ba152388b646923": {
     "views": [
      {
       "cell_index": 15
      }
     ]
    },
    "b68fa47a9c08420facbad488aaf2d944": {
     "views": [
      {
       "cell_index": 12
      }
     ]
    },
    "b774305eaa034d438f70b1856f3670fd": {
     "views": [
      {
       "cell_index": 14
      }
     ]
    },
    "b850fb7fbe88410081dc3e2f29d57f72": {
     "views": [
      {
       "cell_index": 16
      }
     ]
    },
    "b8d6cd00fc6c4f8d9bfbc10c199cdd1c": {
     "views": [
      {
       "cell_index": 14
      }
     ]
    },
    "ba71feeb00dc434b9f1af32fd3d17378": {
     "views": [
      {
       "cell_index": 15
      }
     ]
    },
    "bac6d6f3b36a473aa464f72c78a8a113": {
     "views": [
      {
       "cell_index": 12
      }
     ]
    },
    "bb16c9f70b834231aa40dd7daad1658e": {
     "views": [
      {
       "cell_index": 14
      }
     ]
    },
    "bc7f53d206ba4b079ac5c3b0e83502b4": {
     "views": [
      {
       "cell_index": 14
      }
     ]
    },
    "bd82798423c04856baa3df74c1eed646": {
     "views": [
      {
       "cell_index": 15
      }
     ]
    },
    "be5e29455622404fbdcbec6f00ccfafc": {
     "views": [
      {
       "cell_index": 15
      }
     ]
    },
    "bfb9100fc955495392a0957e9269dec1": {
     "views": [
      {
       "cell_index": 12
      }
     ]
    },
    "c02a65f871244705830ce018873fb1c3": {
     "views": [
      {
       "cell_index": 12
      }
     ]
    },
    "c202ce4d02144b0aae0ec8b99a9c019b": {
     "views": [
      {
       "cell_index": 15
      }
     ]
    },
    "c214bc44831244ee90ca3bdee7fd1113": {
     "views": [
      {
       "cell_index": 12
      }
     ]
    },
    "c358aa71867d413894d48b10bca3cdb0": {
     "views": [
      {
       "cell_index": 14
      }
     ]
    },
    "c37c33a1e29a478887de6116630e231a": {
     "views": [
      {
       "cell_index": 14
      }
     ]
    },
    "c5a0ce6f718a4ebd9edc7a7d263cb512": {
     "views": [
      {
       "cell_index": 14
      }
     ]
    },
    "c769c4ff58b94f928a61d60d7f0e2f80": {
     "views": [
      {
       "cell_index": 15
      }
     ]
    },
    "c8ffc62ea3af43a9b1e6bbefb50a5125": {
     "views": [
      {
       "cell_index": 15
      }
     ]
    },
    "cb7e081e3cd1498e8411e445dc8b2c60": {
     "views": [
      {
       "cell_index": 14
      }
     ]
    },
    "d213bdd14e21446d9f701bd7ec7c85af": {
     "views": [
      {
       "cell_index": 12
      }
     ]
    },
    "d40ac06360284575be40473c71d5d85b": {
     "views": [
      {
       "cell_index": 15
      }
     ]
    },
    "d43d41c4bb2b45db851ac38b54669028": {
     "views": [
      {
       "cell_index": 14
      }
     ]
    },
    "d79f46af6e3c4f53a60b90b6ce4156f4": {
     "views": [
      {
       "cell_index": 16
      }
     ]
    },
    "d9369cf6cc7d42f39fa2ca9f9c5d2451": {
     "views": [
      {
       "cell_index": 17
      }
     ]
    },
    "d9dacbce53be4aa583311b8355277374": {
     "views": [
      {
       "cell_index": 12
      }
     ]
    },
    "dbb9cafe3397472591f8959abfd5c58b": {
     "views": [
      {
       "cell_index": 16
      }
     ]
    },
    "dbe553922e074d9aa92e1e992f3f84d5": {
     "views": [
      {
       "cell_index": 14
      }
     ]
    },
    "dc58de18bf9144ae84dbdb0ba93a75e6": {
     "views": [
      {
       "cell_index": 12
      }
     ]
    },
    "dd0a7d139014490da2ef52ad819662d4": {
     "views": [
      {
       "cell_index": 15
      }
     ]
    },
    "de76c50bdb6348a3ae5e557b10e54d5a": {
     "views": [
      {
       "cell_index": 14
      }
     ]
    },
    "deede502c335409b87b7444942683560": {
     "views": [
      {
       "cell_index": 14
      }
     ]
    },
    "e07a7767b26847c091fae16a0542cf63": {
     "views": [
      {
       "cell_index": 15
      }
     ]
    },
    "e14fb7deede44f8493fb16ba375071cf": {
     "views": [
      {
       "cell_index": 16
      }
     ]
    },
    "e175e95eac4a48ceb92025a6c2af40f2": {
     "views": [
      {
       "cell_index": 15
      }
     ]
    },
    "e1d64bb47d17476c89cc172a1cde499a": {
     "views": [
      {
       "cell_index": 15
      }
     ]
    },
    "e2c582a323674e5cbae4724a8c804669": {
     "views": [
      {
       "cell_index": 14
      }
     ]
    },
    "e387657166cc47fdb92ce20bdf6ce410": {
     "views": [
      {
       "cell_index": 12
      }
     ]
    },
    "e40dd386414d4883836be402d3b8065f": {
     "views": [
      {
       "cell_index": 14
      }
     ]
    },
    "e4405ee097a24e0a84c4ac1ecde9b5dc": {
     "views": [
      {
       "cell_index": 16
      }
     ]
    },
    "e4b97a0bf7ae4c75b58fa8bef7116c8a": {
     "views": [
      {
       "cell_index": 14
      }
     ]
    },
    "e4f58a72bd0040d48e3a4fba42358a48": {
     "views": [
      {
       "cell_index": 15
      }
     ]
    },
    "e53d210ab5cb4315869561edb8eceab1": {
     "views": [
      {
       "cell_index": 15
      }
     ]
    },
    "e5bca7c91164469588232bc60d7754d2": {
     "views": [
      {
       "cell_index": 12
      }
     ]
    },
    "e7158533923a4f1f80ad7845b1b3a3a3": {
     "views": [
      {
       "cell_index": 14
      }
     ]
    },
    "e8dcdf327d4e42f283a953e4c6a9aa92": {
     "views": [
      {
       "cell_index": 15
      }
     ]
    },
    "ea963e800ba24ffda553bdb1192a5584": {
     "views": [
      {
       "cell_index": 14
      }
     ]
    },
    "ec9913268ca543258253fb2cc21b4ee2": {
     "views": [
      {
       "cell_index": 14
      }
     ]
    },
    "ece337c3f6e046ee92dd1545c6571738": {
     "views": [
      {
       "cell_index": 14
      }
     ]
    },
    "ef0ecf03d536488a959c16b5e86425da": {
     "views": [
      {
       "cell_index": 14
      }
     ]
    },
    "ef95f8f0b9a6453c8f2280725da46b52": {
     "views": [
      {
       "cell_index": 15
      }
     ]
    },
    "efb42abc74714953a5ffa05d9628c46b": {
     "views": [
      {
       "cell_index": 15
      }
     ]
    },
    "f161b3dbb3ab4c07837c5c79c0e2c10e": {
     "views": [
      {
       "cell_index": 15
      }
     ]
    },
    "f5736193eb424338a2ec40b56f3661e5": {
     "views": [
      {
       "cell_index": 10
      }
     ]
    },
    "f62fef7f776a4aea9f7157c3de4845e4": {
     "views": [
      {
       "cell_index": 14
      }
     ]
    },
    "f82ecc0c154947e5b7602fb1cd6ed637": {
     "views": [
      {
       "cell_index": 14
      }
     ]
    },
    "f8d98c8f6b2c49c985e7af521dd71293": {
     "views": [
      {
       "cell_index": 17
      }
     ]
    },
    "fb327411a5a142e9a752e544bb303edb": {
     "views": [
      {
       "cell_index": 15
      }
     ]
    },
    "fc6c5c1f41b4442ca3400cb174beb434": {
     "views": [
      {
       "cell_index": 15
      }
     ]
    },
    "fd1f965475e14f9499ed9f0a2743928b": {
     "views": [
      {
       "cell_index": 12
      }
     ]
    },
    "fe33265b8f954a33a48b296453ba0361": {
     "views": [
      {
       "cell_index": 14
      }
     ]
    }
   },
   "version": "1.2.0"
  }
 },
 "nbformat": 4,
 "nbformat_minor": 2
}
